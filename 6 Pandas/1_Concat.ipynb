{
 "cells": [
  {
   "cell_type": "code",
   "execution_count": 1,
   "id": "8c3a66d1",
   "metadata": {},
   "outputs": [
    {
     "name": "stdout",
     "output_type": "stream",
     "text": [
      "   red  orange  yellow  green\n",
      "0    4       8       3      1\n",
      "1    1       5      19      3\n",
      "2    9       4      14      7\n",
      "3    8      18       2      8\n",
      "   red  orange  yellow  green\n",
      "0   17       7      15      6\n",
      "1   20      18      19     14\n",
      "2    1      14       9     11\n",
      "3   18       8       1      9\n"
     ]
    }
   ],
   "source": [
    "import random\n",
    "import pandas as pd \n",
    "import numpy as np \n",
    "\n",
    "random.seed(42) #Semilla para reproducibilidad del experimento\n",
    "d1 = pd.DataFrame({\n",
    "    'red': [random.randint(1,20) for _ in range(4)],\n",
    "    'orange': [random.randint(1,20) for _ in range(4)],\n",
    "    'yellow': [random.randint(1,20) for _ in range(4)],\n",
    "    'green': [random.randint(1,20) for _ in range(4)]\n",
    "    }\n",
    ")\n",
    "d2 = pd.DataFrame({\n",
    "    'red': [random.randint(1,20) for _ in range(4)],\n",
    "    'orange': [random.randint(1,20) for _ in range(4)],\n",
    "    'yellow': [random.randint(1,20) for _ in range(4)],\n",
    "    'green': [random.randint(1,20) for _ in range(4)]\n",
    "    }\n",
    ")\n",
    "print(d1)\n",
    "print(d2)"
   ]
  },
  {
   "cell_type": "markdown",
   "id": "b4bf392f",
   "metadata": {},
   "source": [
    "Concatenar dos DataFrames con la función concat"
   ]
  },
  {
   "cell_type": "code",
   "execution_count": 33,
   "id": "53e5153c",
   "metadata": {},
   "outputs": [
    {
     "name": "stdout",
     "output_type": "stream",
     "text": [
      "   red  orange  yellow  green\n",
      "0    4       8       3      1\n",
      "1    1       5      19      3\n",
      "2    9       4      14      7\n",
      "3    8      18       2      8\n",
      "0   17       7      15      6\n",
      "1   20      18      19     14\n",
      "2    1      14       9     11\n",
      "3   18       8       1      9\n"
     ]
    }
   ],
   "source": [
    "print(pd.concat([d1, d2]))"
   ]
  },
  {
   "cell_type": "code",
   "execution_count": 40,
   "id": "a4d929be",
   "metadata": {},
   "outputs": [
    {
     "name": "stdout",
     "output_type": "stream",
     "text": [
      "   red  orange  yellow  green\n",
      "0    4       8       3      1\n",
      "1    1       5      19      3\n",
      "2    9       4      14      7\n",
      "3    8      18       2      8\n",
      "0   17       7      15      6\n",
      "1   20      18      19     14\n",
      "2    1      14       9     11\n",
      "3   18       8       1      9\n",
      "Index([0, 1, 2, 3, 0, 1, 2, 3], dtype='int64')\n",
      "Index(['red', 'orange', 'yellow', 'green'], dtype='object')\n",
      "(8, 4)\n",
      "   red  orange  yellow  green\n",
      "3    8      18       2      8\n",
      "3   18       8       1      9\n"
     ]
    }
   ],
   "source": [
    "d3 = pd.concat([d1, d2])\n",
    "print(d3)\n",
    "\n",
    "print(d3.index) #Índices del DataFrame\n",
    "print(d3.columns)# Columnas del DataFrame\n",
    "print(d3.shape) #Tamaño del DataFrame\n",
    "\n",
    "print(d3.loc[3])\n"
   ]
  },
  {
   "cell_type": "markdown",
   "id": "c4fd10da",
   "metadata": {},
   "source": [
    "Concatenar 2 marcos de datos a lo largo del índice, ignorando los valores del índice de origen"
   ]
  },
  {
   "cell_type": "code",
   "execution_count": 43,
   "id": "a80819f4",
   "metadata": {},
   "outputs": [
    {
     "name": "stdout",
     "output_type": "stream",
     "text": [
      "   red  orange  yellow  green\n",
      "0    4       8       3      1\n",
      "1    1       5      19      3\n",
      "2    9       4      14      7\n",
      "3    8      18       2      8\n",
      "4   17       7      15      6\n",
      "5   20      18      19     14\n",
      "6    1      14       9     11\n",
      "7   18       8       1      9\n"
     ]
    },
    {
     "data": {
      "application/vnd.microsoft.datawrangler.viewer.v0+json": {
       "columns": [
        {
         "name": "index",
         "rawType": "int64",
         "type": "integer"
        },
        {
         "name": "green",
         "rawType": "int64",
         "type": "integer"
        }
       ],
       "ref": "1806e637-93ed-409e-94eb-4c9e7d0ce71c",
       "rows": [
        [
         "0",
         "1"
        ],
        [
         "1",
         "3"
        ],
        [
         "2",
         "7"
        ],
        [
         "3",
         "8"
        ],
        [
         "4",
         "6"
        ],
        [
         "5",
         "14"
        ],
        [
         "6",
         "11"
        ],
        [
         "7",
         "9"
        ]
       ],
       "shape": {
        "columns": 1,
        "rows": 8
       }
      },
      "text/plain": [
       "0     1\n",
       "1     3\n",
       "2     7\n",
       "3     8\n",
       "4     6\n",
       "5    14\n",
       "6    11\n",
       "7     9\n",
       "Name: green, dtype: int64"
      ]
     },
     "execution_count": 43,
     "metadata": {},
     "output_type": "execute_result"
    }
   ],
   "source": [
    "d3 = pd.concat([d1, d2], ignore_index= True) \n",
    "print(d3)\n",
    "\n",
    "d3.loc[:,'yellow']\n",
    "d3['green']"
   ]
  },
  {
   "cell_type": "markdown",
   "id": "d84db31b",
   "metadata": {},
   "source": [
    "Concatenar con nombres de columnas difentes"
   ]
  },
  {
   "cell_type": "code",
   "execution_count": 44,
   "id": "560cdaa6",
   "metadata": {},
   "outputs": [
    {
     "name": "stdout",
     "output_type": "stream",
     "text": [
      "   red  orange\n",
      "0    5       4\n",
      "1   19      16\n",
      "2    3      15\n",
      "3    9      16\n",
      "   green  blue  indigo\n",
      "0     13    13       9\n",
      "1      7    14       8\n",
      "2      4    20      19\n",
      "3     16     1       4\n",
      "4      1    15      11\n"
     ]
    }
   ],
   "source": [
    "random.seed(1)\n",
    "df1 = pd.DataFrame({\n",
    "    'red': [random.randint(1,20) for _ in range(4)],\n",
    "    'orange': [random.randint(1,20) for _ in range(4)]\n",
    "    \n",
    "    }\n",
    ")\n",
    "\n",
    "df2 = pd.DataFrame({\n",
    "    'green': [random.randint(1,20) for _ in range(5)],\n",
    "    'blue': [random.randint(1,20) for _ in range(5)],\n",
    "    'indigo': [random.randint(1,20) for _ in range(5)],\n",
    "    \n",
    "    }\n",
    ")\n",
    "\n",
    "print(df1)\n",
    "print(df2)"
   ]
  },
  {
   "cell_type": "markdown",
   "id": "85f932b5",
   "metadata": {},
   "source": [
    "Concatenar los dos marcos de datos. Se unen a lo largo del índice y los datos falntantes se rellenan con NaN"
   ]
  },
  {
   "cell_type": "code",
   "execution_count": 48,
   "id": "068d1b5f",
   "metadata": {},
   "outputs": [
    {
     "data": {
      "application/vnd.microsoft.datawrangler.viewer.v0+json": {
       "columns": [
        {
         "name": "index",
         "rawType": "int64",
         "type": "integer"
        },
        {
         "name": "red",
         "rawType": "float64",
         "type": "float"
        },
        {
         "name": "orange",
         "rawType": "float64",
         "type": "float"
        },
        {
         "name": "green",
         "rawType": "float64",
         "type": "float"
        },
        {
         "name": "blue",
         "rawType": "float64",
         "type": "float"
        },
        {
         "name": "indigo",
         "rawType": "float64",
         "type": "float"
        }
       ],
       "ref": "ecdee776-7463-4d34-970e-8acdbc4bdf67",
       "rows": [
        [
         "0",
         "5.0",
         "4.0",
         null,
         null,
         null
        ],
        [
         "1",
         "19.0",
         "16.0",
         null,
         null,
         null
        ],
        [
         "2",
         "3.0",
         "15.0",
         null,
         null,
         null
        ],
        [
         "3",
         "9.0",
         "16.0",
         null,
         null,
         null
        ],
        [
         "4",
         null,
         null,
         "13.0",
         "13.0",
         "9.0"
        ],
        [
         "5",
         null,
         null,
         "7.0",
         "14.0",
         "8.0"
        ],
        [
         "6",
         null,
         null,
         "4.0",
         "20.0",
         "19.0"
        ],
        [
         "7",
         null,
         null,
         "16.0",
         "1.0",
         "4.0"
        ],
        [
         "8",
         null,
         null,
         "1.0",
         "15.0",
         "11.0"
        ]
       ],
       "shape": {
        "columns": 5,
        "rows": 9
       }
      },
      "text/html": [
       "<div>\n",
       "<style scoped>\n",
       "    .dataframe tbody tr th:only-of-type {\n",
       "        vertical-align: middle;\n",
       "    }\n",
       "\n",
       "    .dataframe tbody tr th {\n",
       "        vertical-align: top;\n",
       "    }\n",
       "\n",
       "    .dataframe thead th {\n",
       "        text-align: right;\n",
       "    }\n",
       "</style>\n",
       "<table border=\"1\" class=\"dataframe\">\n",
       "  <thead>\n",
       "    <tr style=\"text-align: right;\">\n",
       "      <th></th>\n",
       "      <th>red</th>\n",
       "      <th>orange</th>\n",
       "      <th>green</th>\n",
       "      <th>blue</th>\n",
       "      <th>indigo</th>\n",
       "    </tr>\n",
       "  </thead>\n",
       "  <tbody>\n",
       "    <tr>\n",
       "      <th>0</th>\n",
       "      <td>5.0</td>\n",
       "      <td>4.0</td>\n",
       "      <td>NaN</td>\n",
       "      <td>NaN</td>\n",
       "      <td>NaN</td>\n",
       "    </tr>\n",
       "    <tr>\n",
       "      <th>1</th>\n",
       "      <td>19.0</td>\n",
       "      <td>16.0</td>\n",
       "      <td>NaN</td>\n",
       "      <td>NaN</td>\n",
       "      <td>NaN</td>\n",
       "    </tr>\n",
       "    <tr>\n",
       "      <th>2</th>\n",
       "      <td>3.0</td>\n",
       "      <td>15.0</td>\n",
       "      <td>NaN</td>\n",
       "      <td>NaN</td>\n",
       "      <td>NaN</td>\n",
       "    </tr>\n",
       "    <tr>\n",
       "      <th>3</th>\n",
       "      <td>9.0</td>\n",
       "      <td>16.0</td>\n",
       "      <td>NaN</td>\n",
       "      <td>NaN</td>\n",
       "      <td>NaN</td>\n",
       "    </tr>\n",
       "    <tr>\n",
       "      <th>4</th>\n",
       "      <td>NaN</td>\n",
       "      <td>NaN</td>\n",
       "      <td>13.0</td>\n",
       "      <td>13.0</td>\n",
       "      <td>9.0</td>\n",
       "    </tr>\n",
       "    <tr>\n",
       "      <th>5</th>\n",
       "      <td>NaN</td>\n",
       "      <td>NaN</td>\n",
       "      <td>7.0</td>\n",
       "      <td>14.0</td>\n",
       "      <td>8.0</td>\n",
       "    </tr>\n",
       "    <tr>\n",
       "      <th>6</th>\n",
       "      <td>NaN</td>\n",
       "      <td>NaN</td>\n",
       "      <td>4.0</td>\n",
       "      <td>20.0</td>\n",
       "      <td>19.0</td>\n",
       "    </tr>\n",
       "    <tr>\n",
       "      <th>7</th>\n",
       "      <td>NaN</td>\n",
       "      <td>NaN</td>\n",
       "      <td>16.0</td>\n",
       "      <td>1.0</td>\n",
       "      <td>4.0</td>\n",
       "    </tr>\n",
       "    <tr>\n",
       "      <th>8</th>\n",
       "      <td>NaN</td>\n",
       "      <td>NaN</td>\n",
       "      <td>1.0</td>\n",
       "      <td>15.0</td>\n",
       "      <td>11.0</td>\n",
       "    </tr>\n",
       "  </tbody>\n",
       "</table>\n",
       "</div>"
      ],
      "text/plain": [
       "    red  orange  green  blue  indigo\n",
       "0   5.0     4.0    NaN   NaN     NaN\n",
       "1  19.0    16.0    NaN   NaN     NaN\n",
       "2   3.0    15.0    NaN   NaN     NaN\n",
       "3   9.0    16.0    NaN   NaN     NaN\n",
       "4   NaN     NaN   13.0  13.0     9.0\n",
       "5   NaN     NaN    7.0  14.0     8.0\n",
       "6   NaN     NaN    4.0  20.0    19.0\n",
       "7   NaN     NaN   16.0   1.0     4.0\n",
       "8   NaN     NaN    1.0  15.0    11.0"
      ]
     },
     "execution_count": 48,
     "metadata": {},
     "output_type": "execute_result"
    }
   ],
   "source": [
    "df3 = pd.concat([df1, df2], ignore_index= True)\n",
    "\n",
    "#print(df3)\n",
    "df3"
   ]
  },
  {
   "cell_type": "markdown",
   "id": "40c5c77b",
   "metadata": {},
   "source": [
    "El parámetro 'axis' especifica a lo largo de qué eje va a unir los marcos de datos. O para índice (por defecto) y 1 para columnas."
   ]
  },
  {
   "cell_type": "code",
   "execution_count": 49,
   "id": "68f39557",
   "metadata": {},
   "outputs": [
    {
     "data": {
      "application/vnd.microsoft.datawrangler.viewer.v0+json": {
       "columns": [
        {
         "name": "index",
         "rawType": "int64",
         "type": "integer"
        },
        {
         "name": "red",
         "rawType": "float64",
         "type": "float"
        },
        {
         "name": "orange",
         "rawType": "float64",
         "type": "float"
        },
        {
         "name": "green",
         "rawType": "int64",
         "type": "integer"
        },
        {
         "name": "blue",
         "rawType": "int64",
         "type": "integer"
        },
        {
         "name": "indigo",
         "rawType": "int64",
         "type": "integer"
        }
       ],
       "ref": "798b26ae-ca17-4426-bce7-91ae796d99fc",
       "rows": [
        [
         "0",
         "5.0",
         "4.0",
         "13",
         "13",
         "9"
        ],
        [
         "1",
         "19.0",
         "16.0",
         "7",
         "14",
         "8"
        ],
        [
         "2",
         "3.0",
         "15.0",
         "4",
         "20",
         "19"
        ],
        [
         "3",
         "9.0",
         "16.0",
         "16",
         "1",
         "4"
        ],
        [
         "4",
         null,
         null,
         "1",
         "15",
         "11"
        ]
       ],
       "shape": {
        "columns": 5,
        "rows": 5
       }
      },
      "text/html": [
       "<div>\n",
       "<style scoped>\n",
       "    .dataframe tbody tr th:only-of-type {\n",
       "        vertical-align: middle;\n",
       "    }\n",
       "\n",
       "    .dataframe tbody tr th {\n",
       "        vertical-align: top;\n",
       "    }\n",
       "\n",
       "    .dataframe thead th {\n",
       "        text-align: right;\n",
       "    }\n",
       "</style>\n",
       "<table border=\"1\" class=\"dataframe\">\n",
       "  <thead>\n",
       "    <tr style=\"text-align: right;\">\n",
       "      <th></th>\n",
       "      <th>red</th>\n",
       "      <th>orange</th>\n",
       "      <th>green</th>\n",
       "      <th>blue</th>\n",
       "      <th>indigo</th>\n",
       "    </tr>\n",
       "  </thead>\n",
       "  <tbody>\n",
       "    <tr>\n",
       "      <th>0</th>\n",
       "      <td>5.0</td>\n",
       "      <td>4.0</td>\n",
       "      <td>13</td>\n",
       "      <td>13</td>\n",
       "      <td>9</td>\n",
       "    </tr>\n",
       "    <tr>\n",
       "      <th>1</th>\n",
       "      <td>19.0</td>\n",
       "      <td>16.0</td>\n",
       "      <td>7</td>\n",
       "      <td>14</td>\n",
       "      <td>8</td>\n",
       "    </tr>\n",
       "    <tr>\n",
       "      <th>2</th>\n",
       "      <td>3.0</td>\n",
       "      <td>15.0</td>\n",
       "      <td>4</td>\n",
       "      <td>20</td>\n",
       "      <td>19</td>\n",
       "    </tr>\n",
       "    <tr>\n",
       "      <th>3</th>\n",
       "      <td>9.0</td>\n",
       "      <td>16.0</td>\n",
       "      <td>16</td>\n",
       "      <td>1</td>\n",
       "      <td>4</td>\n",
       "    </tr>\n",
       "    <tr>\n",
       "      <th>4</th>\n",
       "      <td>NaN</td>\n",
       "      <td>NaN</td>\n",
       "      <td>1</td>\n",
       "      <td>15</td>\n",
       "      <td>11</td>\n",
       "    </tr>\n",
       "  </tbody>\n",
       "</table>\n",
       "</div>"
      ],
      "text/plain": [
       "    red  orange  green  blue  indigo\n",
       "0   5.0     4.0     13    13       9\n",
       "1  19.0    16.0      7    14       8\n",
       "2   3.0    15.0      4    20      19\n",
       "3   9.0    16.0     16     1       4\n",
       "4   NaN     NaN      1    15      11"
      ]
     },
     "execution_count": 49,
     "metadata": {},
     "output_type": "execute_result"
    }
   ],
   "source": [
    "df3 = pd.concat([df1, df2], axis= 1)\n",
    "\n",
    "#print(df3)\n",
    "df3"
   ]
  },
  {
   "cell_type": "code",
   "execution_count": 50,
   "id": "c8b44d67",
   "metadata": {},
   "outputs": [
    {
     "name": "stdout",
     "output_type": "stream",
     "text": [
      "   red  orange\n",
      "0    5       4\n",
      "1   19      16\n",
      "2    3      15\n",
      "3    9      16\n",
      "   green  blue  indigo\n",
      "0     13    13       9\n",
      "1      7    14       8\n",
      "2      4    20      19\n",
      "3     16     1       4\n",
      "4      1    15      11\n"
     ]
    }
   ],
   "source": [
    "print(df1)\n",
    "print(df2)"
   ]
  },
  {
   "cell_type": "markdown",
   "id": "bd923c10",
   "metadata": {},
   "source": [
    "Al hacer coincidir columnas, sólo se conservan las filas con índices coincidentes. Observar que la fila del índice 4 se elimina para df2.\n",
    "\n",
    "Concatenar dos marcos de datos con inner join, sólo mantiene los índices coincidentes"
   ]
  },
  {
   "cell_type": "code",
   "execution_count": 51,
   "id": "c1196da7",
   "metadata": {},
   "outputs": [
    {
     "data": {
      "application/vnd.microsoft.datawrangler.viewer.v0+json": {
       "columns": [
        {
         "name": "index",
         "rawType": "int64",
         "type": "integer"
        },
        {
         "name": "red",
         "rawType": "int64",
         "type": "integer"
        },
        {
         "name": "orange",
         "rawType": "int64",
         "type": "integer"
        },
        {
         "name": "green",
         "rawType": "int64",
         "type": "integer"
        },
        {
         "name": "blue",
         "rawType": "int64",
         "type": "integer"
        },
        {
         "name": "indigo",
         "rawType": "int64",
         "type": "integer"
        }
       ],
       "ref": "0d4ba165-0d92-4c38-8a99-25550d570904",
       "rows": [
        [
         "0",
         "5",
         "4",
         "13",
         "13",
         "9"
        ],
        [
         "1",
         "19",
         "16",
         "7",
         "14",
         "8"
        ],
        [
         "2",
         "3",
         "15",
         "4",
         "20",
         "19"
        ],
        [
         "3",
         "9",
         "16",
         "16",
         "1",
         "4"
        ]
       ],
       "shape": {
        "columns": 5,
        "rows": 4
       }
      },
      "text/html": [
       "<div>\n",
       "<style scoped>\n",
       "    .dataframe tbody tr th:only-of-type {\n",
       "        vertical-align: middle;\n",
       "    }\n",
       "\n",
       "    .dataframe tbody tr th {\n",
       "        vertical-align: top;\n",
       "    }\n",
       "\n",
       "    .dataframe thead th {\n",
       "        text-align: right;\n",
       "    }\n",
       "</style>\n",
       "<table border=\"1\" class=\"dataframe\">\n",
       "  <thead>\n",
       "    <tr style=\"text-align: right;\">\n",
       "      <th></th>\n",
       "      <th>red</th>\n",
       "      <th>orange</th>\n",
       "      <th>green</th>\n",
       "      <th>blue</th>\n",
       "      <th>indigo</th>\n",
       "    </tr>\n",
       "  </thead>\n",
       "  <tbody>\n",
       "    <tr>\n",
       "      <th>0</th>\n",
       "      <td>5</td>\n",
       "      <td>4</td>\n",
       "      <td>13</td>\n",
       "      <td>13</td>\n",
       "      <td>9</td>\n",
       "    </tr>\n",
       "    <tr>\n",
       "      <th>1</th>\n",
       "      <td>19</td>\n",
       "      <td>16</td>\n",
       "      <td>7</td>\n",
       "      <td>14</td>\n",
       "      <td>8</td>\n",
       "    </tr>\n",
       "    <tr>\n",
       "      <th>2</th>\n",
       "      <td>3</td>\n",
       "      <td>15</td>\n",
       "      <td>4</td>\n",
       "      <td>20</td>\n",
       "      <td>19</td>\n",
       "    </tr>\n",
       "    <tr>\n",
       "      <th>3</th>\n",
       "      <td>9</td>\n",
       "      <td>16</td>\n",
       "      <td>16</td>\n",
       "      <td>1</td>\n",
       "      <td>4</td>\n",
       "    </tr>\n",
       "  </tbody>\n",
       "</table>\n",
       "</div>"
      ],
      "text/plain": [
       "   red  orange  green  blue  indigo\n",
       "0    5       4     13    13       9\n",
       "1   19      16      7    14       8\n",
       "2    3      15      4    20      19\n",
       "3    9      16     16     1       4"
      ]
     },
     "execution_count": 51,
     "metadata": {},
     "output_type": "execute_result"
    }
   ],
   "source": [
    "df3 = pd.concat([df1, df2], axis= 1, join='inner')\n",
    "df3"
   ]
  },
  {
   "cell_type": "code",
   "execution_count": 52,
   "id": "65f25c5c",
   "metadata": {},
   "outputs": [
    {
     "name": "stdout",
     "output_type": "stream",
     "text": [
      "     Producto  Ventas\n",
      "0      Laptop      15\n",
      "1      Tablet      30\n",
      "2  Smartphone      25\n",
      "     Producto  Ventas\n",
      "0      Laptop      22\n",
      "1      Tablet      18\n",
      "2  Smartphone      10\n"
     ]
    }
   ],
   "source": [
    "Sucursal_A = pd.DataFrame({\n",
    "    'Producto' : ['Laptop', 'Tablet', 'Smartphone'],\n",
    "    'Ventas' : [15, 30, 25]\n",
    "})\n",
    "\n",
    "Sucursal_B = pd.DataFrame({\n",
    "    'Producto' : ['Laptop', 'Tablet', 'Smartphone'],\n",
    "    'Ventas' : [22, 18, 10]\n",
    "})\n",
    "\n",
    "print(Sucursal_A)\n",
    "print(Sucursal_B)"
   ]
  },
  {
   "cell_type": "markdown",
   "id": "37f249f9",
   "metadata": {},
   "source": [
    "Concatenar con join outer"
   ]
  },
  {
   "cell_type": "code",
   "execution_count": 2,
   "id": "a1068728",
   "metadata": {},
   "outputs": [
    {
     "name": "stdout",
     "output_type": "stream",
     "text": [
      "     Producto  Ventas\n",
      "0      Laptop      15\n",
      "1      Tablet      30\n",
      "2  Smartphone      25\n",
      "     Producto  Ventas\n",
      "0      Tablet      22\n",
      "1  Smartphone      18\n",
      "2  Smartwatch      10\n"
     ]
    }
   ],
   "source": [
    "Sucursal_A = pd.DataFrame({\n",
    "    'Producto' : ['Laptop', 'Tablet', 'Smartphone'],\n",
    "    'Ventas' : [15, 30, 25]\n",
    "})\n",
    "\n",
    "Sucursal_B = pd.DataFrame({\n",
    "    'Producto' : ['Tablet', 'Smartphone', 'Smartwatch'],\n",
    "    'Ventas' : [22, 18, 10]\n",
    "})\n",
    "\n",
    "print(Sucursal_A)\n",
    "print(Sucursal_B)"
   ]
  },
  {
   "cell_type": "code",
   "execution_count": null,
   "id": "6d82a8be",
   "metadata": {},
   "outputs": [
    {
     "name": "stdout",
     "output_type": "stream",
     "text": [
      "            Ventas  Ventas\n",
      "Producto                  \n",
      "Laptop        15.0     NaN\n",
      "Tablet        30.0    22.0\n",
      "Smartphone    25.0    18.0\n",
      "Smartwatch     NaN    10.0\n",
      "            Ventas  Ventas\n",
      "Producto                  \n",
      "Laptop          15       0\n",
      "Tablet          30      22\n",
      "Smartphone      25      18\n",
      "Smartwatch       0      10\n"
     ]
    }
   ],
   "source": [
    "ventas_totales = pd.concat([Sucursal_A.set_index('Producto'),\n",
    "                            Sucursal_B.set_index('Producto')],\n",
    "                            axis=1, join='outer')\n",
    "\n",
    "print(ventas_totales)\n",
    "\n",
    "ventas_totales = ventas_totales.fillna(0)\n",
    "ventas_totales = ventas_totales.astype(int) #Convertir tipo de datos\n",
    "\n",
    "print(ventas_totales)"
   ]
  }
 ],
 "metadata": {
  "kernelspec": {
   "display_name": "Analitica",
   "language": "python",
   "name": "python3"
  },
  "language_info": {
   "codemirror_mode": {
    "name": "ipython",
    "version": 3
   },
   "file_extension": ".py",
   "mimetype": "text/x-python",
   "name": "python",
   "nbconvert_exporter": "python",
   "pygments_lexer": "ipython3",
   "version": "3.12.11"
  }
 },
 "nbformat": 4,
 "nbformat_minor": 5
}
