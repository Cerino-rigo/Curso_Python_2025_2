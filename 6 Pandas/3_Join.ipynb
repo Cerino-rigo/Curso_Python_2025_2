{
 "cells": [
  {
   "cell_type": "code",
   "execution_count": null,
   "metadata": {},
   "outputs": [],
   "source": [
    "import pandas as pd\n",
    "\n",
    "# Crear el primer DataFrame\n",
    "df1 = pd.DataFrame({\n",
    "    'key': ['A', 'B', 'C', 'D'],\n",
    "    'value1': [1, 2, 3, 4],\n",
    "    'value3': [9, 10, 11, 12],\n",
    "    'value5': [13, 14, 15, 16]\n",
    "})\n",
    "df1.set_index('key', inplace=True)  # Establecer la columna 'key' como índice\n",
    "df1"
   ]
  },
  {
   "cell_type": "code",
   "execution_count": null,
   "metadata": {},
   "outputs": [],
   "source": [
    "# Crear el segundo DataFrame\n",
    "df2 = pd.DataFrame({\n",
    "    'key': ['A', 'B', 'E', 'F'],\n",
    "    'value2': [5, 6, 7, 8],\n",
    "    'value4': [17, 18, 19, 20],\n",
    "    'value6': [21, 22, 23, 24]\n",
    "})\n",
    "df2.set_index('key', inplace=True)  # Establecer la columna 'key' como índice\n",
    "df2"
   ]
  },
  {
   "cell_type": "code",
   "execution_count": null,
   "metadata": {},
   "outputs": [],
   "source": [
    "# Crear el segundo DataFrame\n",
    "df2 = pd.DataFrame({\n",
    "    'key': ['A', 'B', 'E', 'F'],\n",
    "    'value1': [5, 6, 7, 8],\n",
    "    'value4': [17, 18, 19, 20],\n",
    "    'value6': [21, 22, 23, 24]\n",
    "})\n",
    "df2.set_index('key', inplace=True)  # Establecer la columna 'key' como índice\n",
    "print(df1)\n",
    "print(df2)"
   ]
  },
  {
   "cell_type": "markdown",
   "metadata": {},
   "source": [
    "Ambos DataFrames contienen una columna llamada value1.\n",
    "\n",
    "Cuando haces join, Pandas no sabe cómo renombrar automáticamente esas columnas duplicadas."
   ]
  },
  {
   "cell_type": "markdown",
   "metadata": {},
   "source": [
    "El método .join() está diseñado principalmente para unir por índices.\n",
    "\n",
    "El parámetro on= se puede usar solo si el DataFrame a la izquierda (df1) tiene esa columna (en este caso value1) y el DataFrame de la derecha (df2) usa como índice la columna equivalente.\n",
    "\n",
    "*Pero aquí hay dos problemas:\n",
    "\n",
    "df2 tiene como índice key, no value1.\n",
    "\n",
    "on='value1' intenta alinear usando una columna que no corresponde al índice del otro DataFrame."
   ]
  }
 ],
 "metadata": {
  "kernelspec": {
   "display_name": "Analitica",
   "language": "python",
   "name": "python3"
  },
  "language_info": {
   "codemirror_mode": {
    "name": "ipython",
    "version": 3
   },
   "file_extension": ".py",
   "mimetype": "text/x-python",
   "name": "python",
   "nbconvert_exporter": "python",
   "pygments_lexer": "ipython3",
   "version": "3.12.11"
  }
 },
 "nbformat": 4,
 "nbformat_minor": 2
}
