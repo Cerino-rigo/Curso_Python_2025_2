{
 "cells": [
  {
   "cell_type": "markdown",
   "metadata": {},
   "source": [
    "## Análisis de hosts y sus propiedades\n",
    "Cada alumno tiene la base de datos de una ciudad. La tarea es fusionar los datos de hosts con sus listings para responder preguntas clave."
   ]
  },
  {
   "cell_type": "markdown",
   "metadata": {},
   "source": [
    "## Ejercicio 1: ¿Cuántas propiedades tiene cada host?\n",
    "Usa groupby() y merge() para unir la información de hosts y calcular cuántas propiedades administra cada uno."
   ]
  },
  {
   "cell_type": "code",
   "execution_count": 2,
   "metadata": {},
   "outputs": [],
   "source": [
    "# Cargar los archivos CSV en DataFrames\n",
    "import pandas as pd \n",
    "airbnb = pd.read_csv('../Cambridge.csv')"
   ]
  },
  {
   "cell_type": "code",
   "execution_count": 3,
   "metadata": {},
   "outputs": [
    {
     "data": {
      "application/vnd.microsoft.datawrangler.viewer.v0+json": {
       "columns": [
        {
         "name": "index",
         "rawType": "int64",
         "type": "integer"
        },
        {
         "name": "id",
         "rawType": "int64",
         "type": "integer"
        },
        {
         "name": "listing_url",
         "rawType": "object",
         "type": "string"
        },
        {
         "name": "scrape_id",
         "rawType": "int64",
         "type": "integer"
        },
        {
         "name": "last_scraped",
         "rawType": "object",
         "type": "string"
        },
        {
         "name": "source",
         "rawType": "object",
         "type": "string"
        },
        {
         "name": "name",
         "rawType": "object",
         "type": "string"
        },
        {
         "name": "description",
         "rawType": "object",
         "type": "string"
        },
        {
         "name": "neighborhood_overview",
         "rawType": "object",
         "type": "unknown"
        },
        {
         "name": "picture_url",
         "rawType": "object",
         "type": "string"
        },
        {
         "name": "host_id",
         "rawType": "int64",
         "type": "integer"
        },
        {
         "name": "host_url",
         "rawType": "object",
         "type": "string"
        },
        {
         "name": "host_name",
         "rawType": "object",
         "type": "string"
        },
        {
         "name": "host_since",
         "rawType": "object",
         "type": "string"
        },
        {
         "name": "host_location",
         "rawType": "object",
         "type": "string"
        },
        {
         "name": "host_about",
         "rawType": "object",
         "type": "string"
        },
        {
         "name": "host_response_time",
         "rawType": "object",
         "type": "unknown"
        },
        {
         "name": "host_response_rate",
         "rawType": "object",
         "type": "unknown"
        },
        {
         "name": "host_acceptance_rate",
         "rawType": "object",
         "type": "string"
        },
        {
         "name": "host_is_superhost",
         "rawType": "object",
         "type": "string"
        },
        {
         "name": "host_thumbnail_url",
         "rawType": "object",
         "type": "string"
        },
        {
         "name": "host_picture_url",
         "rawType": "object",
         "type": "string"
        },
        {
         "name": "host_neighbourhood",
         "rawType": "object",
         "type": "string"
        },
        {
         "name": "host_listings_count",
         "rawType": "int64",
         "type": "integer"
        },
        {
         "name": "host_total_listings_count",
         "rawType": "int64",
         "type": "integer"
        },
        {
         "name": "host_verifications",
         "rawType": "object",
         "type": "string"
        },
        {
         "name": "host_has_profile_pic",
         "rawType": "object",
         "type": "string"
        },
        {
         "name": "host_identity_verified",
         "rawType": "object",
         "type": "string"
        },
        {
         "name": "neighbourhood",
         "rawType": "object",
         "type": "unknown"
        },
        {
         "name": "neighbourhood_cleansed",
         "rawType": "object",
         "type": "string"
        },
        {
         "name": "neighbourhood_group_cleansed",
         "rawType": "float64",
         "type": "float"
        },
        {
         "name": "latitude",
         "rawType": "float64",
         "type": "float"
        },
        {
         "name": "longitude",
         "rawType": "float64",
         "type": "float"
        },
        {
         "name": "property_type",
         "rawType": "object",
         "type": "string"
        },
        {
         "name": "room_type",
         "rawType": "object",
         "type": "string"
        },
        {
         "name": "accommodates",
         "rawType": "int64",
         "type": "integer"
        },
        {
         "name": "bathrooms",
         "rawType": "float64",
         "type": "float"
        },
        {
         "name": "bathrooms_text",
         "rawType": "object",
         "type": "string"
        },
        {
         "name": "bedrooms",
         "rawType": "float64",
         "type": "float"
        },
        {
         "name": "beds",
         "rawType": "float64",
         "type": "float"
        },
        {
         "name": "amenities",
         "rawType": "object",
         "type": "string"
        },
        {
         "name": "price",
         "rawType": "object",
         "type": "unknown"
        },
        {
         "name": "minimum_nights",
         "rawType": "int64",
         "type": "integer"
        },
        {
         "name": "maximum_nights",
         "rawType": "int64",
         "type": "integer"
        },
        {
         "name": "minimum_minimum_nights",
         "rawType": "int64",
         "type": "integer"
        },
        {
         "name": "maximum_minimum_nights",
         "rawType": "int64",
         "type": "integer"
        },
        {
         "name": "minimum_maximum_nights",
         "rawType": "int64",
         "type": "integer"
        },
        {
         "name": "maximum_maximum_nights",
         "rawType": "int64",
         "type": "integer"
        },
        {
         "name": "minimum_nights_avg_ntm",
         "rawType": "float64",
         "type": "float"
        },
        {
         "name": "maximum_nights_avg_ntm",
         "rawType": "float64",
         "type": "float"
        },
        {
         "name": "calendar_updated",
         "rawType": "float64",
         "type": "float"
        },
        {
         "name": "has_availability",
         "rawType": "object",
         "type": "string"
        },
        {
         "name": "availability_30",
         "rawType": "int64",
         "type": "integer"
        },
        {
         "name": "availability_60",
         "rawType": "int64",
         "type": "integer"
        },
        {
         "name": "availability_90",
         "rawType": "int64",
         "type": "integer"
        },
        {
         "name": "availability_365",
         "rawType": "int64",
         "type": "integer"
        },
        {
         "name": "calendar_last_scraped",
         "rawType": "object",
         "type": "string"
        },
        {
         "name": "number_of_reviews",
         "rawType": "int64",
         "type": "integer"
        },
        {
         "name": "number_of_reviews_ltm",
         "rawType": "int64",
         "type": "integer"
        },
        {
         "name": "number_of_reviews_l30d",
         "rawType": "int64",
         "type": "integer"
        },
        {
         "name": "first_review",
         "rawType": "object",
         "type": "string"
        },
        {
         "name": "last_review",
         "rawType": "object",
         "type": "string"
        },
        {
         "name": "review_scores_rating",
         "rawType": "float64",
         "type": "float"
        },
        {
         "name": "review_scores_accuracy",
         "rawType": "float64",
         "type": "float"
        },
        {
         "name": "review_scores_cleanliness",
         "rawType": "float64",
         "type": "float"
        },
        {
         "name": "review_scores_checkin",
         "rawType": "float64",
         "type": "float"
        },
        {
         "name": "review_scores_communication",
         "rawType": "float64",
         "type": "float"
        },
        {
         "name": "review_scores_location",
         "rawType": "float64",
         "type": "float"
        },
        {
         "name": "review_scores_value",
         "rawType": "float64",
         "type": "float"
        },
        {
         "name": "license",
         "rawType": "object",
         "type": "unknown"
        },
        {
         "name": "instant_bookable",
         "rawType": "object",
         "type": "string"
        },
        {
         "name": "calculated_host_listings_count",
         "rawType": "int64",
         "type": "integer"
        },
        {
         "name": "calculated_host_listings_count_entire_homes",
         "rawType": "int64",
         "type": "integer"
        },
        {
         "name": "calculated_host_listings_count_private_rooms",
         "rawType": "int64",
         "type": "integer"
        },
        {
         "name": "calculated_host_listings_count_shared_rooms",
         "rawType": "int64",
         "type": "integer"
        },
        {
         "name": "reviews_per_month",
         "rawType": "float64",
         "type": "float"
        }
       ],
       "ref": "dbb5cccc-9ae7-4627-a712-5baf1cd9e354",
       "rows": [
        [
         "0",
         "8521",
         "https://www.airbnb.com/rooms/8521",
         "20241228025327",
         "2024-12-28",
         "previous scrape",
         "SunsplashedSerenity walk to Harvard & Fresh Pond",
         "An elegant, sun-splashed, 2 bedroom (+2offices) apartment with parking, a 15-minute walk or 7-minute bike ride to Harvard (bikes provided).  Enjoy this spacious 1st floor unit in a stylish 3-level house, with its gorgeous yard and two bluestone patios, on a quiet leafy street in Huron Village Cambridge.  Sleeps 5.",
         "Huron Village is known for its charm.  We have playgrounds, a reservoir, small artisans, a used bookstore, antiques, and two bakery-cafes all within walking distance of Harvard Square.  You'll also find scrumptious take-out in several local places. (URL HIDDEN)<br />(URL HIDDEN)",
         "https://a0.muscache.com/pictures/30536/072e0a55_original.jpg",
         "306681",
         "https://www.airbnb.com/users/show/306681",
         "Janet",
         "2010-12-01",
         "Cambridge, MA",
         "I'm a professor at one of the local universities and a long-time Cambridge resident.  I live on the second floor at 64 Granville Road with my daughter.  We enjoy sharing our \"Cambridge tips\" with all of our visitors: where to ice-skate in winter or rent a canoe in summer, the best local places for cheese, bread, and yummy ethnic take-out treats.  We can lend you bikes and direct you to the Minuteman Bikeway, an 11-mile shady ride through Arlington, Lexington and Bedford, or give you a couple of sleds and show you the hill at Fresh Pond.  Whatever the season, we look forward to welcoming you when you're in Cambridge.",
         "within an hour",
         "100%",
         "67%",
         "t",
         "https://a0.muscache.com/im/users/306681/profile_pic/1309790297/original.jpg?aki_policy=profile_small",
         "https://a0.muscache.com/im/users/306681/profile_pic/1309790297/original.jpg?aki_policy=profile_x_medium",
         "Cambridge",
         "2",
         "3",
         "['email', 'phone']",
         "t",
         "t",
         "Neighborhood highlights",
         "West Cambridge",
         null,
         "42.38258",
         "-71.13646",
         "Entire rental unit",
         "Entire home/apt",
         "5",
         null,
         "1 bath",
         "2.0",
         null,
         "[\"Paid parking on premises\", \"Essentials\", \"Children\\u2019s dinnerware\", \"Wifi\", \"Free street parking\", \"Bed linens\", \"Host greets you\", \"Carbon monoxide alarm\", \"High chair\", \"Babysitter recommendations\", \"BBQ grill\", \"Single level home\", \"Heating\", \"Stove\", \"Bathtub\", \"Dryer\", \"Shower gel\", \"Smoke alarm\", \"Baking sheet\", \"Pack \\u2019n play/Travel crib\", \"Luggage dropoff allowed\", \"TV with standard cable\", \"Hot water\", \"Refrigerator\", \"Oven\", \"Dedicated workspace\", \"Hangers\", \"Coffee maker\", \"Dishes and silverware\", \"Barbecue utensils\", \"Outlet covers\", \"Shampoo\", \"Dishwasher\", \"Extra pillows and blankets\", \"Private entrance\", \"Shared patio or balcony\", \"Long term stays allowed\", \"Beach essentials\", \"Cooking basics\", \"Shared backyard \\u2013 Not fully fenced\", \"Children\\u2019s books and toys\", \"Microwave\", \"Air conditioning\", \"Washer\", \"Iron\", \"Kitchen\"]",
         null,
         "2",
         "1125",
         "2",
         "3",
         "1125",
         "1125",
         "2.0",
         "1125.0",
         null,
         "t",
         "16",
         "16",
         "16",
         "225",
         "2024-12-28",
         "76",
         "10",
         "0",
         "2009-07-23",
         "2024-09-01",
         "4.83",
         "4.95",
         "4.97",
         "4.89",
         "4.92",
         "4.93",
         "4.74",
         "C0121120491",
         "f",
         "2",
         "2",
         "0",
         "0",
         "0.4"
        ],
        [
         "1",
         "11169",
         "https://www.airbnb.com/rooms/11169",
         "20241228025327",
         "2024-12-28",
         "previous scrape",
         "Lovely Studio Room: Available for long w/ends",
         "Large sunny room w kitchenette & bath. Foam mat can be added for 3rd person. Must love rescue dogs; Callie is a gem; likes pets when you come and go. Quality queen mattress, fridge, microwave, good wifi, en-suite marble bath. Quiet, leafy Cambridge neighborhood, moments from city life. Walk, bike or bus to Harvard, Tufts, MIT, Lesley . **Must like kids, adorable ones live above & you will hear their footsteps at times. Covid Vaccination. No lock on room or use of other rooms.",
         "The neighborhood is quiet and friendly and our street is tree-lined, and known as one of the nicest blocks in what is a great neighborhood. It's far enough away from the main street so you won't hear any noise, yet within moments you can be at the subway or in Davis or Porter Squares. there's a sweet playground nearby, a bike trail extending 19 miles, and many parks. A Whole Foods and Trader Joe's are both within a 15 minute walk.",
         "https://a0.muscache.com/pictures/miso/Hosting-11169/original/0dc97418-a009-4e38-b8e3-f261a9773561.jpeg",
         "40965",
         "https://www.airbnb.com/users/show/40965",
         "Judith L",
         "2009-09-24",
         "Cambridge, MA",
         "Friendly, politically progressive, resourceful... I love hosting people from all over the world, and know the area well for a native NY'er. You will find the environment 'on the court' restful, peaceful and as one  guest from put it, \"I  figured you were a healer of some sort-- because your home feels healing.\" Our place is relaxing and down to earth, with  an artistic and colorful ambiance, and lots of sunlight.",
         "within a few hours",
         "100%",
         "50%",
         "t",
         "https://a0.muscache.com/im/users/40965/profile_pic/1417297269/original.jpg?aki_policy=profile_small",
         "https://a0.muscache.com/im/users/40965/profile_pic/1417297269/original.jpg?aki_policy=profile_x_medium",
         "Cambridge",
         "4",
         "4",
         "['email', 'phone']",
         "t",
         "t",
         "Neighborhood highlights",
         "North Cambridge",
         null,
         "42.3963",
         "-71.13135",
         "Private room in condo",
         "Private room",
         "3",
         null,
         "1 private bath",
         "1.0",
         null,
         "[\"Essentials\", \"Central air conditioning\", \"Wifi\", \"Bed linens\", \"Host greets you\", \"Carbon monoxide alarm\", \"Heating\", \"Coffee\", \"Bathtub\", \"Shower gel\", \"Dining table\", \"Smoke alarm\", \"Paid parking garage off premises\", \"Portable fans\", \"Hot water\", \"Refrigerator\", \"Dedicated workspace\", \"Hangers\", \"Coffee maker\", \"Dishes and silverware\", \"Shampoo\", \"Extra pillows and blankets\", \"Hot water kettle\", \"Children\\u2019s books and toys\", \"Microwave\", \"EV charger\", \"Hair dryer\"]",
         null,
         "3",
         "14",
         "3",
         "3",
         "14",
         "14",
         "3.0",
         "14.0",
         null,
         "t",
         "27",
         "57",
         "87",
         "353",
         "2024-12-28",
         "184",
         "9",
         "0",
         "2010-03-30",
         "2024-11-24",
         "4.79",
         "4.74",
         "4.77",
         "4.91",
         "4.92",
         "4.79",
         "4.76",
         null,
         "f",
         "3",
         "1",
         "2",
         "0",
         "1.02"
        ],
        [
         "2",
         "19581",
         "https://www.airbnb.com/rooms/19581",
         "20241228025327",
         "2024-12-28",
         "city scrape",
         "Furnished suite, Windsor",
         "Welcome to Area IV! We are located, conveniently at the foot of MIT, between Central and Kendall Sq, Cambridge.  5 minutes to MIT campus, 15 minutes walk to Harvard, and 15 minutes walk to MGH.  Hosts Patty and Marc will make you feel at home.<br /><br />Stays under 90 days are subject to 14.45% tax, collected on arrival",
         null,
         "https://a0.muscache.com/pictures/188f1b4b-f37b-473c-b28c-3962050e6fdc.jpg",
         "74249",
         "https://www.airbnb.com/users/show/74249",
         "Marc And Patty",
         "2010-01-27",
         "Cambridge, MA",
         "We are adventure seekers.  Both Patty and I love to travel, and explore the world through food. ...",
         null,
         null,
         "100%",
         "t",
         "https://a0.muscache.com/im/users/74249/profile_pic/1300493791/original.jpg?aki_policy=profile_small",
         "https://a0.muscache.com/im/users/74249/profile_pic/1300493791/original.jpg?aki_policy=profile_x_medium",
         "Central Square",
         "3",
         "3",
         "['email', 'phone']",
         "t",
         "t",
         null,
         "The Port",
         null,
         "42.36258",
         "-71.09603",
         "Private room in bed and breakfast",
         "Private room",
         "1",
         "1.0",
         "1 private bath",
         "1.0",
         "1.0",
         "[\"Paid parking on premises\", \"Essentials\", \"Wifi\", \"Ethernet connection\", \"Building staff\", \"Self check-in\", \"Bed linens\", \"Freezer\", \"Window AC unit\", \"Carbon monoxide alarm\", \"Outdoor dining area\", \"Mini fridge\", \"Heating\", \"Stove\", \"Dryer\", \"Dining table\", \"Wine glasses\", \"Smoke alarm\", \"First aid kit\", \"Luggage dropoff allowed\", \"Toaster\", \"TV with standard cable\", \"Hot water\", \"Refrigerator\", \"Dedicated workspace\", \"Hangers\", \"General electric oven\", \"Dishes and silverware\", \"Shampoo\", \"Lock on bedroom door\", \"Extra pillows and blankets\", \"Dishwasher\", \"Hot water kettle\", \"Shared patio or balcony\", \"Long term stays allowed\", \"Cooking basics\", \"Clothing storage\", \"Microwave\", \"Coffee maker: Keurig coffee machine, Nespresso\", \"Outdoor furniture\", \"Fire extinguisher\", \"Washer\", \"Iron\", \"Hair dryer\", \"Kitchen\"]",
         "$172.00",
         "10",
         "730",
         "5",
         "14",
         "730",
         "730",
         "8.9",
         "730.0",
         null,
         "t",
         "7",
         "32",
         "62",
         "337",
         "2024-12-28",
         "12",
         "1",
         "0",
         "2010-03-06",
         "2024-08-03",
         "4.55",
         "4.6",
         "4.6",
         "4.6",
         "4.9",
         "4.9",
         "4.3",
         null,
         "t",
         "3",
         "0",
         "3",
         "0",
         "0.07"
        ],
        [
         "3",
         "27498",
         "https://www.airbnb.com/rooms/27498",
         "20241228025327",
         "2024-12-28",
         "city scrape",
         "Furnished suite 2 @ the Windsor",
         "Welcome to Area IV! We are located, conveniently at the foot of MIT, between Central and Kendall Sq, Cambridge.  5 minutes to MIT campus, 15 minutes walk to Harvard, and 15 minutes walk to MGH.  Hosts Patty and Marc will make you feel at home.<br /><br />Stays under 90 days are taxed at 14.45 %, collected on arrival",
         null,
         "https://a0.muscache.com/pictures/bab30c3c-ff3c-4a1c-bbeb-72c3928d2008.jpg",
         "74249",
         "https://www.airbnb.com/users/show/74249",
         "Marc And Patty",
         "2010-01-27",
         "Cambridge, MA",
         "We are adventure seekers.  Both Patty and I love to travel, and explore the world through food. ...",
         null,
         null,
         "100%",
         "t",
         "https://a0.muscache.com/im/users/74249/profile_pic/1300493791/original.jpg?aki_policy=profile_small",
         "https://a0.muscache.com/im/users/74249/profile_pic/1300493791/original.jpg?aki_policy=profile_x_medium",
         "Central Square",
         "3",
         "3",
         "['email', 'phone']",
         "t",
         "t",
         null,
         "The Port",
         null,
         "42.36254",
         "-71.09698",
         "Private room in bed and breakfast",
         "Private room",
         "2",
         "1.0",
         "1 private bath",
         "1.0",
         "1.0",
         "[\"Essentials\", \"Wifi\", \"Ethernet connection\", \"Building staff\", \"Self check-in\", \"Bed linens\", \"Freezer\", \"Window AC unit\", \"Carbon monoxide alarm\", \"Outdoor dining area\", \"Mini fridge\", \"Stove\", \"Hammock\", \"Dining table\", \"Paid dryer \\u2013 In building\", \"Wine glasses\", \"40 inch TV with standard cable\", \"Smoke alarm\", \"Baking sheet\", \"Paid parking lot on premises \\u2013 3 spaces\", \"First aid kit\", \"Luggage dropoff allowed\", \"Toaster\", \"Hot water\", \"Refrigerator\", \"Oven\", \"Rice maker\", \"Dedicated workspace\", \"Hangers\", \"Central heating\", \"Dishes and silverware\", \"Shampoo\", \"Lock on bedroom door\", \"Extra pillows and blankets\", \"Dishwasher\", \"Hot water kettle\", \"Shared patio or balcony\", \"Long term stays allowed\", \"Cooking basics\", \"Microwave\", \"Coffee maker: Keurig coffee machine, Nespresso\", \"Paid washer \\u2013 In building\", \"Clothing storage: closet and dresser\", \"Fire extinguisher\", \"Outdoor furniture\", \"Backyard\", \"Iron\", \"Hair dryer\", \"Kitchen\"]",
         "$201.00",
         "5",
         "730",
         "5",
         "14",
         "730",
         "730",
         "8.9",
         "730.0",
         null,
         "t",
         "14",
         "39",
         "69",
         "344",
         "2024-12-28",
         "26",
         "3",
         "0",
         "2010-07-22",
         "2024-09-20",
         "4.76",
         "4.67",
         "4.75",
         "4.63",
         "4.75",
         "4.88",
         "4.63",
         null,
         "t",
         "3",
         "0",
         "3",
         "0",
         "0.15"
        ],
        [
         "4",
         "79762",
         "https://www.airbnb.com/rooms/79762",
         "20241228025327",
         "2024-12-28",
         "city scrape",
         "Cambridge Getaway @ Harvard & MIT",
         "Charming 2-bedroom apartment on the third floor of our beautiful Victorian home.",
         "Annmarie and I have lived in this area for over 50 years. We both live on the first floor of this house and know where people want to go. We can suggest the best restaurants and attractions in the neighborhood.",
         "https://a0.muscache.com/pictures/airflow/Hosting-79762/original/8d2b1a15-1ad5-4d49-94f4-6b40fcb75d9a.jpg",
         "430015",
         "https://www.airbnb.com/users/show/430015",
         "Kevin",
         "2011-03-08",
         "Cambridge, MA",
         "Annmarie and I were both born here in Cambridge. We have lived in the same location our entire lives. It is a wonderful area for visiting the city..We started with Airbnb for 4 years now and it has been a wonderfull experience. Many people have stayed here from all over the world.. Marathons, Graduations, Reunions and Family get togethers. We are surrounded by Great restaurant's and cafe's.. We are 5 minutes to bus lines and the Redline. You can walk to Harvard or MIT in 10-15 minutes Walkability has a 95% rating. We also have free parking.",
         "within an hour",
         "100%",
         "85%",
         "t",
         "https://a0.muscache.com/im/users/430015/profile_pic/1355418255/original.jpg?aki_policy=profile_small",
         "https://a0.muscache.com/im/users/430015/profile_pic/1355418255/original.jpg?aki_policy=profile_x_medium",
         "Cambridge",
         "1",
         "2",
         "['email', 'phone']",
         "t",
         "t",
         "Neighborhood highlights",
         "The Port",
         null,
         "42.3695",
         "-71.09921",
         "Entire rental unit",
         "Entire home/apt",
         "4",
         "1.0",
         "1 bath",
         "2.0",
         "2.0",
         "[\"Essentials\", \"Wifi\", \"Free street parking\", \"Building staff\", \"Self check-in\", \"Carbon monoxide alarm\", \"High chair\", \"Heating\", \"Stove\", \"Bathtub\", \"Pets allowed\", \"Smoke alarm\", \"Pack \\u2019n play/Travel crib\", \"Free parking on premises\", \"TV with standard cable\", \"Hot water\", \"Refrigerator\", \"Oven\", \"Hangers\", \"Coffee maker\", \"Dishes and silverware\", \"Shampoo\", \"Patio or balcony\", \"Cooking basics\", \"Microwave\", \"Air conditioning\", \"Fire extinguisher\", \"Iron\", \"Hair dryer\", \"Kitchen\"]",
         "$300.00",
         "3",
         "365",
         "3",
         "3",
         "365",
         "365",
         "3.0",
         "365.0",
         null,
         "t",
         "26",
         "56",
         "86",
         "326",
         "2024-12-28",
         "434",
         "26",
         "0",
         "2011-05-05",
         "2024-11-10",
         "4.87",
         "4.88",
         "4.86",
         "4.96",
         "4.93",
         "4.93",
         "4.76",
         "STR-15661",
         "f",
         "1",
         "1",
         "0",
         "0",
         "2.61"
        ]
       ],
       "shape": {
        "columns": 75,
        "rows": 5
       }
      },
      "text/html": [
       "<div>\n",
       "<style scoped>\n",
       "    .dataframe tbody tr th:only-of-type {\n",
       "        vertical-align: middle;\n",
       "    }\n",
       "\n",
       "    .dataframe tbody tr th {\n",
       "        vertical-align: top;\n",
       "    }\n",
       "\n",
       "    .dataframe thead th {\n",
       "        text-align: right;\n",
       "    }\n",
       "</style>\n",
       "<table border=\"1\" class=\"dataframe\">\n",
       "  <thead>\n",
       "    <tr style=\"text-align: right;\">\n",
       "      <th></th>\n",
       "      <th>id</th>\n",
       "      <th>listing_url</th>\n",
       "      <th>scrape_id</th>\n",
       "      <th>last_scraped</th>\n",
       "      <th>source</th>\n",
       "      <th>name</th>\n",
       "      <th>description</th>\n",
       "      <th>neighborhood_overview</th>\n",
       "      <th>picture_url</th>\n",
       "      <th>host_id</th>\n",
       "      <th>...</th>\n",
       "      <th>review_scores_communication</th>\n",
       "      <th>review_scores_location</th>\n",
       "      <th>review_scores_value</th>\n",
       "      <th>license</th>\n",
       "      <th>instant_bookable</th>\n",
       "      <th>calculated_host_listings_count</th>\n",
       "      <th>calculated_host_listings_count_entire_homes</th>\n",
       "      <th>calculated_host_listings_count_private_rooms</th>\n",
       "      <th>calculated_host_listings_count_shared_rooms</th>\n",
       "      <th>reviews_per_month</th>\n",
       "    </tr>\n",
       "  </thead>\n",
       "  <tbody>\n",
       "    <tr>\n",
       "      <th>0</th>\n",
       "      <td>8521</td>\n",
       "      <td>https://www.airbnb.com/rooms/8521</td>\n",
       "      <td>20241228025327</td>\n",
       "      <td>2024-12-28</td>\n",
       "      <td>previous scrape</td>\n",
       "      <td>SunsplashedSerenity walk to Harvard &amp; Fresh Pond</td>\n",
       "      <td>An elegant, sun-splashed, 2 bedroom (+2offices...</td>\n",
       "      <td>Huron Village is known for its charm.  We have...</td>\n",
       "      <td>https://a0.muscache.com/pictures/30536/072e0a5...</td>\n",
       "      <td>306681</td>\n",
       "      <td>...</td>\n",
       "      <td>4.92</td>\n",
       "      <td>4.93</td>\n",
       "      <td>4.74</td>\n",
       "      <td>C0121120491</td>\n",
       "      <td>f</td>\n",
       "      <td>2</td>\n",
       "      <td>2</td>\n",
       "      <td>0</td>\n",
       "      <td>0</td>\n",
       "      <td>0.40</td>\n",
       "    </tr>\n",
       "    <tr>\n",
       "      <th>1</th>\n",
       "      <td>11169</td>\n",
       "      <td>https://www.airbnb.com/rooms/11169</td>\n",
       "      <td>20241228025327</td>\n",
       "      <td>2024-12-28</td>\n",
       "      <td>previous scrape</td>\n",
       "      <td>Lovely Studio Room: Available for long w/ends</td>\n",
       "      <td>Large sunny room w kitchenette &amp; bath. Foam ma...</td>\n",
       "      <td>The neighborhood is quiet and friendly and our...</td>\n",
       "      <td>https://a0.muscache.com/pictures/miso/Hosting-...</td>\n",
       "      <td>40965</td>\n",
       "      <td>...</td>\n",
       "      <td>4.92</td>\n",
       "      <td>4.79</td>\n",
       "      <td>4.76</td>\n",
       "      <td>NaN</td>\n",
       "      <td>f</td>\n",
       "      <td>3</td>\n",
       "      <td>1</td>\n",
       "      <td>2</td>\n",
       "      <td>0</td>\n",
       "      <td>1.02</td>\n",
       "    </tr>\n",
       "    <tr>\n",
       "      <th>2</th>\n",
       "      <td>19581</td>\n",
       "      <td>https://www.airbnb.com/rooms/19581</td>\n",
       "      <td>20241228025327</td>\n",
       "      <td>2024-12-28</td>\n",
       "      <td>city scrape</td>\n",
       "      <td>Furnished suite, Windsor</td>\n",
       "      <td>Welcome to Area IV! We are located, convenient...</td>\n",
       "      <td>NaN</td>\n",
       "      <td>https://a0.muscache.com/pictures/188f1b4b-f37b...</td>\n",
       "      <td>74249</td>\n",
       "      <td>...</td>\n",
       "      <td>4.90</td>\n",
       "      <td>4.90</td>\n",
       "      <td>4.30</td>\n",
       "      <td>NaN</td>\n",
       "      <td>t</td>\n",
       "      <td>3</td>\n",
       "      <td>0</td>\n",
       "      <td>3</td>\n",
       "      <td>0</td>\n",
       "      <td>0.07</td>\n",
       "    </tr>\n",
       "    <tr>\n",
       "      <th>3</th>\n",
       "      <td>27498</td>\n",
       "      <td>https://www.airbnb.com/rooms/27498</td>\n",
       "      <td>20241228025327</td>\n",
       "      <td>2024-12-28</td>\n",
       "      <td>city scrape</td>\n",
       "      <td>Furnished suite 2 @ the Windsor</td>\n",
       "      <td>Welcome to Area IV! We are located, convenient...</td>\n",
       "      <td>NaN</td>\n",
       "      <td>https://a0.muscache.com/pictures/bab30c3c-ff3c...</td>\n",
       "      <td>74249</td>\n",
       "      <td>...</td>\n",
       "      <td>4.75</td>\n",
       "      <td>4.88</td>\n",
       "      <td>4.63</td>\n",
       "      <td>NaN</td>\n",
       "      <td>t</td>\n",
       "      <td>3</td>\n",
       "      <td>0</td>\n",
       "      <td>3</td>\n",
       "      <td>0</td>\n",
       "      <td>0.15</td>\n",
       "    </tr>\n",
       "    <tr>\n",
       "      <th>4</th>\n",
       "      <td>79762</td>\n",
       "      <td>https://www.airbnb.com/rooms/79762</td>\n",
       "      <td>20241228025327</td>\n",
       "      <td>2024-12-28</td>\n",
       "      <td>city scrape</td>\n",
       "      <td>Cambridge Getaway @ Harvard &amp; MIT</td>\n",
       "      <td>Charming 2-bedroom apartment on the third floo...</td>\n",
       "      <td>Annmarie and I have lived in this area for ove...</td>\n",
       "      <td>https://a0.muscache.com/pictures/airflow/Hosti...</td>\n",
       "      <td>430015</td>\n",
       "      <td>...</td>\n",
       "      <td>4.93</td>\n",
       "      <td>4.93</td>\n",
       "      <td>4.76</td>\n",
       "      <td>STR-15661</td>\n",
       "      <td>f</td>\n",
       "      <td>1</td>\n",
       "      <td>1</td>\n",
       "      <td>0</td>\n",
       "      <td>0</td>\n",
       "      <td>2.61</td>\n",
       "    </tr>\n",
       "  </tbody>\n",
       "</table>\n",
       "<p>5 rows × 75 columns</p>\n",
       "</div>"
      ],
      "text/plain": [
       "      id                         listing_url       scrape_id last_scraped  \\\n",
       "0   8521   https://www.airbnb.com/rooms/8521  20241228025327   2024-12-28   \n",
       "1  11169  https://www.airbnb.com/rooms/11169  20241228025327   2024-12-28   \n",
       "2  19581  https://www.airbnb.com/rooms/19581  20241228025327   2024-12-28   \n",
       "3  27498  https://www.airbnb.com/rooms/27498  20241228025327   2024-12-28   \n",
       "4  79762  https://www.airbnb.com/rooms/79762  20241228025327   2024-12-28   \n",
       "\n",
       "            source                                              name  \\\n",
       "0  previous scrape  SunsplashedSerenity walk to Harvard & Fresh Pond   \n",
       "1  previous scrape     Lovely Studio Room: Available for long w/ends   \n",
       "2      city scrape                          Furnished suite, Windsor   \n",
       "3      city scrape                   Furnished suite 2 @ the Windsor   \n",
       "4      city scrape                 Cambridge Getaway @ Harvard & MIT   \n",
       "\n",
       "                                         description  \\\n",
       "0  An elegant, sun-splashed, 2 bedroom (+2offices...   \n",
       "1  Large sunny room w kitchenette & bath. Foam ma...   \n",
       "2  Welcome to Area IV! We are located, convenient...   \n",
       "3  Welcome to Area IV! We are located, convenient...   \n",
       "4  Charming 2-bedroom apartment on the third floo...   \n",
       "\n",
       "                               neighborhood_overview  \\\n",
       "0  Huron Village is known for its charm.  We have...   \n",
       "1  The neighborhood is quiet and friendly and our...   \n",
       "2                                                NaN   \n",
       "3                                                NaN   \n",
       "4  Annmarie and I have lived in this area for ove...   \n",
       "\n",
       "                                         picture_url  host_id  ...  \\\n",
       "0  https://a0.muscache.com/pictures/30536/072e0a5...   306681  ...   \n",
       "1  https://a0.muscache.com/pictures/miso/Hosting-...    40965  ...   \n",
       "2  https://a0.muscache.com/pictures/188f1b4b-f37b...    74249  ...   \n",
       "3  https://a0.muscache.com/pictures/bab30c3c-ff3c...    74249  ...   \n",
       "4  https://a0.muscache.com/pictures/airflow/Hosti...   430015  ...   \n",
       "\n",
       "  review_scores_communication review_scores_location review_scores_value  \\\n",
       "0                        4.92                   4.93                4.74   \n",
       "1                        4.92                   4.79                4.76   \n",
       "2                        4.90                   4.90                4.30   \n",
       "3                        4.75                   4.88                4.63   \n",
       "4                        4.93                   4.93                4.76   \n",
       "\n",
       "       license instant_bookable calculated_host_listings_count  \\\n",
       "0  C0121120491                f                              2   \n",
       "1          NaN                f                              3   \n",
       "2          NaN                t                              3   \n",
       "3          NaN                t                              3   \n",
       "4    STR-15661                f                              1   \n",
       "\n",
       "  calculated_host_listings_count_entire_homes  \\\n",
       "0                                           2   \n",
       "1                                           1   \n",
       "2                                           0   \n",
       "3                                           0   \n",
       "4                                           1   \n",
       "\n",
       "  calculated_host_listings_count_private_rooms  \\\n",
       "0                                            0   \n",
       "1                                            2   \n",
       "2                                            3   \n",
       "3                                            3   \n",
       "4                                            0   \n",
       "\n",
       "  calculated_host_listings_count_shared_rooms reviews_per_month  \n",
       "0                                           0              0.40  \n",
       "1                                           0              1.02  \n",
       "2                                           0              0.07  \n",
       "3                                           0              0.15  \n",
       "4                                           0              2.61  \n",
       "\n",
       "[5 rows x 75 columns]"
      ]
     },
     "execution_count": 3,
     "metadata": {},
     "output_type": "execute_result"
    }
   ],
   "source": [
    "airbnb.head()"
   ]
  },
  {
   "cell_type": "code",
   "execution_count": 4,
   "metadata": {},
   "outputs": [
    {
     "name": "stdout",
     "output_type": "stream",
     "text": [
      "        host_id       host_name  host_since host_is_superhost  \\\n",
      "0        306681           Janet  2010-12-01                 t   \n",
      "1         40965        Judith L  2009-09-24                 t   \n",
      "2         74249  Marc And Patty  2010-01-27                 t   \n",
      "3         74249  Marc And Patty  2010-01-27                 t   \n",
      "4        430015           Kevin  2011-03-08                 t   \n",
      "...         ...             ...         ...               ...   \n",
      "1282  373675137            Liya  2020-10-28                 f   \n",
      "1283  373675137            Liya  2020-10-28                 f   \n",
      "1284  373675137            Liya  2020-10-28                 f   \n",
      "1285  145655051           Karen  2017-08-12                 t   \n",
      "1286  373675137            Liya  2020-10-28                 f   \n",
      "\n",
      "      host_listings_count  \n",
      "0                       2  \n",
      "1                       4  \n",
      "2                       3  \n",
      "3                       3  \n",
      "4                       1  \n",
      "...                   ...  \n",
      "1282                  217  \n",
      "1283                  217  \n",
      "1284                  217  \n",
      "1285                    4  \n",
      "1286                  217  \n",
      "\n",
      "[1287 rows x 5 columns]\n",
      "        host_id                   id  \\\n",
      "0        306681                 8521   \n",
      "1         40965                11169   \n",
      "2         74249                19581   \n",
      "3         74249                27498   \n",
      "4        430015                79762   \n",
      "...         ...                  ...   \n",
      "1282  373675137  1313250609203710870   \n",
      "1283  373675137  1313277221998634744   \n",
      "1284  373675137  1313301960513049198   \n",
      "1285  145655051  1314036192803424107   \n",
      "1286  373675137  1316146649117544288   \n",
      "\n",
      "                                                  name  \\\n",
      "0     SunsplashedSerenity walk to Harvard & Fresh Pond   \n",
      "1        Lovely Studio Room: Available for long w/ends   \n",
      "2                             Furnished suite, Windsor   \n",
      "3                      Furnished suite 2 @ the Windsor   \n",
      "4                    Cambridge Getaway @ Harvard & MIT   \n",
      "...                                                ...   \n",
      "1282              Very comfortable 1 bedroom in Boston   \n",
      "1283                     Peacefull 1 bedroom in Boston   \n",
      "1284                   Comfortable 1 Bedroom in Boston   \n",
      "1285                   Private 1 BDR Apt in Harvard sq   \n",
      "1286                       Amazing 1 Bedroom in Boston   \n",
      "\n",
      "                          property_type        room_type    price  \n",
      "0                    Entire rental unit  Entire home/apt      NaN  \n",
      "1                 Private room in condo     Private room      NaN  \n",
      "2     Private room in bed and breakfast     Private room  $172.00  \n",
      "3     Private room in bed and breakfast     Private room  $201.00  \n",
      "4                    Entire rental unit  Entire home/apt  $300.00  \n",
      "...                                 ...              ...      ...  \n",
      "1282        Private room in rental unit     Private room   $61.00  \n",
      "1283        Private room in rental unit     Private room   $44.00  \n",
      "1284        Private room in rental unit     Private room   $46.00  \n",
      "1285                 Entire rental unit  Entire home/apt  $154.00  \n",
      "1286        Private room in rental unit     Private room   $48.00  \n",
      "\n",
      "[1287 rows x 6 columns]\n"
     ]
    }
   ],
   "source": [
    "hosts = airbnb[['host_id', 'host_name', 'host_since', 'host_is_superhost', 'host_listings_count']]\n",
    "listings = airbnb[['host_id', 'id', 'name', 'property_type', 'room_type', 'price']]\n",
    "print(hosts)\n",
    "print(listings)\n",
    "\n",
    "\n",
    "\n"
   ]
  },
  {
   "cell_type": "code",
   "execution_count": 5,
   "metadata": {},
   "outputs": [
    {
     "name": "stdout",
     "output_type": "stream",
     "text": [
      "         host_id host_name  host_since host_is_superhost  host_listings_count  \\\n",
      "0         306681     Janet  2010-12-01                 t                    2   \n",
      "1         306681     Janet  2010-12-01                 t                    2   \n",
      "2          40965  Judith L  2009-09-24                 t                    4   \n",
      "3          40965  Judith L  2009-09-24                 t                    4   \n",
      "4          40965  Judith L  2009-09-24                 t                    4   \n",
      "...          ...       ...         ...               ...                  ...   \n",
      "44064  373675137      Liya  2020-10-28                 f                  217   \n",
      "44065  373675137      Liya  2020-10-28                 f                  217   \n",
      "44066  373675137      Liya  2020-10-28                 f                  217   \n",
      "44067  373675137      Liya  2020-10-28                 f                  217   \n",
      "44068  373675137      Liya  2020-10-28                 f                  217   \n",
      "\n",
      "                        id                                              name  \\\n",
      "0                     8521  SunsplashedSerenity walk to Harvard & Fresh Pond   \n",
      "1                   108898   \"The Treehouse\" :   Elegant living near Harvard   \n",
      "2                    11169     Lovely Studio Room: Available for long w/ends   \n",
      "3                  1080789     Entire Fabulous home: Available occasionally!   \n",
      "4                 17693766                        Grad Student or Professor!   \n",
      "...                    ...                                               ...   \n",
      "44064  1308846162056102099                          Great 1Bedroom in Boston   \n",
      "44065  1313250609203710870              Very comfortable 1 bedroom in Boston   \n",
      "44066  1313277221998634744                     Peacefull 1 bedroom in Boston   \n",
      "44067  1313301960513049198                   Comfortable 1 Bedroom in Boston   \n",
      "44068  1316146649117544288                       Amazing 1 Bedroom in Boston   \n",
      "\n",
      "                     property_type        room_type   price  \n",
      "0               Entire rental unit  Entire home/apt     NaN  \n",
      "1               Entire rental unit  Entire home/apt     NaN  \n",
      "2            Private room in condo     Private room     NaN  \n",
      "3                     Entire condo  Entire home/apt     NaN  \n",
      "4             Private room in home     Private room     NaN  \n",
      "...                            ...              ...     ...  \n",
      "44064  Private room in rental unit     Private room  $46.00  \n",
      "44065  Private room in rental unit     Private room  $61.00  \n",
      "44066  Private room in rental unit     Private room  $44.00  \n",
      "44067  Private room in rental unit     Private room  $46.00  \n",
      "44068  Private room in rental unit     Private room  $48.00  \n",
      "\n",
      "[44069 rows x 10 columns]\n"
     ]
    }
   ],
   "source": [
    "# Merge entre hosts y listings\n",
    "df_hosts = pd.merge(hosts, listings, on='host_id', how='left')\n",
    "print(df_hosts)\n"
   ]
  },
  {
   "cell_type": "code",
   "execution_count": 6,
   "metadata": {},
   "outputs": [
    {
     "name": "stdout",
     "output_type": "stream",
     "text": [
      "Número de propiedades por host: \n",
      "       host_id                       host_name host_is_superhost   id\n",
      "0        40965                        Judith L                 t    9\n",
      "1        69838                            Mara                 f    1\n",
      "2        74249                  Marc And Patty                 t    9\n",
      "3        81038                          Louisa                 t   81\n",
      "4        87398                             Ari                 f    1\n",
      "..         ...                             ...               ...  ...\n",
      "415  653636057                           Shane                 f   49\n",
      "416  657466767                          Aishat                 f  676\n",
      "417  657804004                          Janesh                 f   16\n",
      "418  661669372                           Belen                 f    1\n",
      "419  666372838  Fairfield Inn Suites Boston Ca                 f    1\n",
      "\n",
      "[420 rows x 4 columns]\n",
      "Número de propiedades por host: \n",
      "       host_id                       host_name host_is_superhost  num_listings\n",
      "0        40965                        Judith L                 t             9\n",
      "1        69838                            Mara                 f             1\n",
      "2        74249                  Marc And Patty                 t             9\n",
      "3        81038                          Louisa                 t            81\n",
      "4        87398                             Ari                 f             1\n",
      "..         ...                             ...               ...           ...\n",
      "415  653636057                           Shane                 f            49\n",
      "416  657466767                          Aishat                 f           676\n",
      "417  657804004                          Janesh                 f            16\n",
      "418  661669372                           Belen                 f             1\n",
      "419  666372838  Fairfield Inn Suites Boston Ca                 f             1\n",
      "\n",
      "[420 rows x 4 columns]\n"
     ]
    }
   ],
   "source": [
    "# Contar cuántas propiedades tiene cada host\n",
    "df_host_count = df_hosts.groupby(['host_id', 'host_name', 'host_is_superhost'])['id'].count().reset_index()\n",
    "print(f\"Número de propiedades por host: \\n{df_host_count}\")\n",
    "df_host_count.rename(columns={'id': 'num_listings'}, inplace=True)\n",
    "\n",
    "print(f\"Número de propiedades por host: \\n{df_host_count}\")"
   ]
  },
  {
   "cell_type": "markdown",
   "metadata": {},
   "source": [
    "## ¿Cuáles son los superhosts más activos?\n",
    "Filtra solo los superhosts (host_is_superhost == 't') y ordena por número de propiedades."
   ]
  },
  {
   "cell_type": "code",
   "execution_count": 7,
   "metadata": {},
   "outputs": [
    {
     "name": "stdout",
     "output_type": "stream",
     "text": [
      "Superhosts: \n",
      "       host_id       host_name host_is_superhost  num_listings\n",
      "0        40965        Judith L                 t             9\n",
      "2        74249  Marc And Patty                 t             9\n",
      "3        81038          Louisa                 t            81\n",
      "7       306681           Janet                 t             4\n",
      "8       404360          Victor                 t             1\n",
      "..         ...             ...               ...           ...\n",
      "406  579486959           Yujia                 t             4\n",
      "407  579647560          Zainab                 t             1\n",
      "408  584853621          Pinyen                 t            25\n",
      "409  585523189          Belter                 t             9\n",
      "412  593833353          Meryem                 t             1\n",
      "\n",
      "[170 rows x 4 columns]\n",
      "Los 10 superhosts más activos: \n",
      "        host_id           host_name host_is_superhost  num_listings\n",
      "356  380623623               Sofia                 t           784\n",
      "237   51079261           Riverside                 t           529\n",
      "377  463475392             Haroldo                 t           484\n",
      "160   22541573  Furnished Quarters                 t           441\n",
      "86     7848820                Kris                 t           256\n",
      "153   21631889             Ling Yi                 t           121\n",
      "131   16241860              Isabel                 t           121\n",
      "225   45011296               Lance                 t           100\n",
      "3        81038              Louisa                 t            81\n",
      "328  222601907               Angel                 t            49\n"
     ]
    }
   ],
   "source": [
    "superhosts = df_host_count[df_host_count['host_is_superhost'] == 't']\n",
    "print(f\"Superhosts: \\n{superhosts}\")\n",
    "superhosts_sorted = superhosts.sort_values(by='num_listings', ascending=False)\n",
    "print(f\"Los 10 superhosts más activos: \\n {superhosts_sorted.head(10)}\")  # Los 10 superhosts más activos\n"
   ]
  },
  {
   "cell_type": "markdown",
   "metadata": {},
   "source": [
    "## Análisis de precios y tipos de propiedades\n",
    "Ahora combinaremos datos de precios, tipos de propiedades y ubicación para descubrir tendencias de precios.\n",
    "\n",
    "¿Cuál es el precio promedio por tipo de propiedad?"
   ]
  },
  {
   "cell_type": "code",
   "execution_count": 8,
   "metadata": {},
   "outputs": [
    {
     "name": "stdout",
     "output_type": "stream",
     "text": [
      "Cantidad de valores nulos en la columna: 342\n"
     ]
    }
   ],
   "source": [
    "import pandas as pd  \n",
    "\n",
    "# Supongamos que df es tu DataFrame y 'columna' es el nombre de la columna que quieres verificar  \n",
    "nulos = airbnb['price'].isnull().sum()  \n",
    "print(f'Cantidad de valores nulos en la columna: {nulos}')  "
   ]
  },
  {
   "cell_type": "code",
   "execution_count": 9,
   "metadata": {},
   "outputs": [],
   "source": [
    "import numpy as np\n",
    "# Reemplazar \"no data\" por NaN\n",
    "airbnb['price'] = airbnb['price'].replace('No data', np.nan)\n",
    "\n",
    "# Eliminar filas con valores faltantes en la columna 'price'\n",
    "airbnb = airbnb.dropna(subset=['price'])\n",
    "\n",
    "# Convertir la columna a número (eliminando símbolos y comas)\n",
    "airbnb['price'] = airbnb['price'].str.replace(r'[$,]', '', regex=True).astype(float)"
   ]
  },
  {
   "cell_type": "code",
   "execution_count": 10,
   "metadata": {},
   "outputs": [
    {
     "name": "stdout",
     "output_type": "stream",
     "text": [
      "Precio promedio por tipo de propiedad: \n",
      "                         property_type       price\n",
      "8                     Entire townhouse  477.000000\n",
      "3                          Entire home  390.333333\n",
      "9                         Entire villa  345.000000\n",
      "2                    Entire guesthouse  250.000000\n",
      "7            Entire serviced apartment  236.100000\n",
      "0                         Entire condo  226.527778\n",
      "20                       Room in hotel  222.200000\n",
      "6                   Entire rental unit  209.112245\n",
      "4                          Entire loft  199.666667\n",
      "19              Room in boutique hotel  186.240000\n",
      "1                   Entire guest suite  167.833333\n",
      "13             Private room in cottage  150.000000\n",
      "5                         Entire place  149.000000\n",
      "10   Private room in bed and breakfast  148.866667\n",
      "12               Private room in condo  129.625000\n",
      "17  Private room in serviced apartment  113.000000\n",
      "14         Private room in guest suite  112.000000\n",
      "18           Private room in townhouse  108.933333\n",
      "15                Private room in home   92.466102\n",
      "16         Private room in rental unit   66.138095\n",
      "11     Private room in casa particular   65.000000\n"
     ]
    }
   ],
   "source": [
    "df_price_type = airbnb.groupby('property_type')['price'].mean().reset_index()\n",
    "df_price_type.sort_values(by='price', ascending=False, inplace=True)\n",
    "\n",
    "print(f\"Precio promedio por tipo de propiedad: \\n{df_price_type}\")\n"
   ]
  },
  {
   "cell_type": "markdown",
   "metadata": {},
   "source": [
    " ¿Cuál es el barrio más caro?"
   ]
  },
  {
   "cell_type": "code",
   "execution_count": 11,
   "metadata": {},
   "outputs": [
    {
     "name": "stdout",
     "output_type": "stream",
     "text": [
      "Los 10 barrios más caros: \n",
      "   neighbourhood_cleansed       price\n",
      "1              Area 2/MIT  269.310345\n",
      "8               Riverside  216.213115\n",
      "12         West Cambridge  204.192308\n",
      "3           Cambridgeport  194.339623\n",
      "4          East Cambridge  182.743455\n",
      "10               The Port  181.976000\n",
      "5           Mid-Cambridge  177.523077\n",
      "2     Cambridge Highlands  175.500000\n",
      "9         Strawberry Hill  159.350000\n",
      "11  Wellington-Harrington  146.082192\n"
     ]
    }
   ],
   "source": [
    "df_price_neigh = airbnb.groupby('neighbourhood_cleansed')['price'].mean().reset_index()\n",
    "df_price_neigh.sort_values(by='price', ascending=False, inplace=True)\n",
    "\n",
    "print(f\"Los 10 barrios más caros: \\n{df_price_neigh.head(10)}\")\n"
   ]
  }
 ],
 "metadata": {
  "kernelspec": {
   "display_name": "Analitica",
   "language": "python",
   "name": "python3"
  },
  "language_info": {
   "codemirror_mode": {
    "name": "ipython",
    "version": 3
   },
   "file_extension": ".py",
   "mimetype": "text/x-python",
   "name": "python",
   "nbconvert_exporter": "python",
   "pygments_lexer": "ipython3",
   "version": "3.12.11"
  }
 },
 "nbformat": 4,
 "nbformat_minor": 2
}
