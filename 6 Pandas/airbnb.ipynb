{
 "cells": [
  {
   "cell_type": "markdown",
   "metadata": {},
   "source": [
    "## Análisis de hosts y sus propiedades\n",
    "Cada alumno tiene la base de datos de una ciudad. La tarea es fusionar los datos de hosts con sus listings para responder preguntas clave."
   ]
  },
  {
   "cell_type": "markdown",
   "metadata": {},
   "source": [
    "## Ejercicio 1: ¿Cuántas propiedades tiene cada host?\n",
    "Usa groupby() y merge() para unir la información de hosts y calcular cuántas propiedades administra cada uno."
   ]
  },
  {
   "cell_type": "code",
   "execution_count": null,
   "metadata": {},
   "outputs": [],
   "source": [
    "# Cargar los archivos CSV en DataFrames\n",
    "import pandas as pd \n",
    "airbnb = pd.read_csv('../Cambridge.csv')"
   ]
  },
  {
   "cell_type": "code",
   "execution_count": null,
   "metadata": {},
   "outputs": [],
   "source": [
    "airbnb.head()"
   ]
  },
  {
   "cell_type": "code",
   "execution_count": null,
   "metadata": {},
   "outputs": [],
   "source": [
    "hosts = airbnb[['host_id', 'host_name', 'host_since', 'host_is_superhost', 'host_listings_count']]\n",
    "listings = airbnb[['host_id', 'id', 'name', 'property_type', 'room_type', 'price']]\n",
    "print(hosts)\n",
    "print(listings)\n",
    "\n",
    "\n",
    "\n"
   ]
  },
  {
   "cell_type": "code",
   "execution_count": null,
   "metadata": {},
   "outputs": [],
   "source": [
    "# Merge entre hosts y listings\n",
    "df_hosts = pd.merge(hosts, listings, on='host_id', how='left')\n",
    "print(df_hosts)\n"
   ]
  },
  {
   "cell_type": "code",
   "execution_count": null,
   "metadata": {},
   "outputs": [],
   "source": [
    "# Contar cuántas propiedades tiene cada host\n",
    "df_host_count = df_hosts.groupby(['host_id', 'host_name', 'host_is_superhost'])['id'].count().reset_index()\n",
    "print(f\"Número de propiedades por host: \\n{df_host_count}\")\n",
    "df_host_count.rename(columns={'id': 'num_listings'}, inplace=True)\n",
    "\n",
    "print(f\"Número de propiedades por host: \\n{df_host_count}\")"
   ]
  },
  {
   "cell_type": "markdown",
   "metadata": {},
   "source": [
    "## ¿Cuáles son los superhosts más activos?\n",
    "Filtra solo los superhosts (host_is_superhost == 't') y ordena por número de propiedades."
   ]
  },
  {
   "cell_type": "code",
   "execution_count": null,
   "metadata": {},
   "outputs": [],
   "source": [
    "superhosts = df_host_count[df_host_count['host_is_superhost'] == 't']\n",
    "print(f\"Superhosts: \\n{superhosts}\")\n",
    "superhosts_sorted = superhosts.sort_values(by='num_listings', ascending=False)\n",
    "print(f\"Los 10 superhosts más activos: \\n {superhosts_sorted.head(10)}\")  # Los 10 superhosts más activos\n"
   ]
  },
  {
   "cell_type": "markdown",
   "metadata": {},
   "source": [
    "## Análisis de precios y tipos de propiedades\n",
    "Ahora combinaremos datos de precios, tipos de propiedades y ubicación para descubrir tendencias de precios.\n",
    "\n",
    "¿Cuál es el precio promedio por tipo de propiedad?"
   ]
  },
  {
   "cell_type": "code",
   "execution_count": null,
   "metadata": {},
   "outputs": [],
   "source": [
    "import pandas as pd  \n",
    "\n",
    "# Supongamos que df es tu DataFrame y 'columna' es el nombre de la columna que quieres verificar  \n",
    "nulos = airbnb['price'].isnull().sum()  \n",
    "print(f'Cantidad de valores nulos en la columna: {nulos}')  "
   ]
  },
  {
   "cell_type": "code",
   "execution_count": null,
   "metadata": {},
   "outputs": [],
   "source": [
    "import numpy as np\n",
    "# Reemplazar \"no data\" por NaN\n",
    "airbnb['price'] = airbnb['price'].replace('No data', np.nan)\n",
    "\n",
    "# Eliminar filas con valores faltantes en la columna 'price'\n",
    "airbnb = airbnb.dropna(subset=['price'])\n",
    "\n",
    "# Convertir la columna a número (eliminando símbolos y comas)\n",
    "airbnb['price'] = airbnb['price'].str.replace(r'[$,]', '', regex=True).astype(float)"
   ]
  },
  {
   "cell_type": "code",
   "execution_count": null,
   "metadata": {},
   "outputs": [],
   "source": [
    "df_price_type = airbnb.groupby('property_type')['price'].mean().reset_index()\n",
    "df_price_type.sort_values(by='price', ascending=False, inplace=True)\n",
    "\n",
    "print(f\"Precio promedio por tipo de propiedad: \\n{df_price_type}\")\n"
   ]
  },
  {
   "cell_type": "markdown",
   "metadata": {},
   "source": [
    " ¿Cuál es el barrio más caro?"
   ]
  },
  {
   "cell_type": "code",
   "execution_count": null,
   "metadata": {},
   "outputs": [],
   "source": [
    "df_price_neigh = airbnb.groupby('neighbourhood_cleansed')['price'].mean().reset_index()\n",
    "df_price_neigh.sort_values(by='price', ascending=False, inplace=True)\n",
    "\n",
    "print(f\"Los 10 barrios más caros: \\n{df_price_neigh.head(10)}\")\n"
   ]
  }
 ],
 "metadata": {
  "kernelspec": {
   "display_name": "Analitica",
   "language": "python",
   "name": "python3"
  },
  "language_info": {
   "codemirror_mode": {
    "name": "ipython",
    "version": 3
   },
   "file_extension": ".py",
   "mimetype": "text/x-python",
   "name": "python",
   "nbconvert_exporter": "python",
   "pygments_lexer": "ipython3",
   "version": "3.12.11"
  }
 },
 "nbformat": 4,
 "nbformat_minor": 2
}
