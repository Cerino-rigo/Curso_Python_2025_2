{
 "cells": [
  {
   "cell_type": "code",
   "execution_count": 1,
   "metadata": {},
   "outputs": [
    {
     "name": "stdout",
     "output_type": "stream",
     "text": [
      "Crear DataFrame:\n",
      "    Courses    Fee Duration  Discount\n",
      "0    Spark  20000    30day      1000\n",
      "1  PySpark  25000   40days      2300\n",
      "2   Hadoop  26000   35days      1200\n",
      "3   Python  22000   40days      2500\n",
      "4  PySpark  24000   60days      2000\n",
      "5    Spark  35000   60days      2000\n"
     ]
    }
   ],
   "source": [
    "import pandas as pd\n",
    "technologies = {\n",
    "    'Courses':[\"Spark\",\"PySpark\",\"Hadoop\",\"Python\",\"PySpark\",\"Spark\"],\n",
    "    'Fee' :[20000,25000,26000,22000,24000,35000],\n",
    "    'Duration':['30day','40days','35days','40days','60days','60days'],\n",
    "    'Discount':[1000,2300,1200,2500,2000,2000]\n",
    "              }\n",
    "df = pd.DataFrame(technologies)\n",
    "print(\"Crear DataFrame:\\n\", df)"
   ]
  },
  {
   "cell_type": "code",
   "execution_count": 2,
   "metadata": {},
   "outputs": [
    {
     "name": "stdout",
     "output_type": "stream",
     "text": [
      "La suma de las columnas 'Fee' y 'Discount' es:\n",
      "Fee         152000\n",
      "Discount     11000\n",
      "dtype: int64\n"
     ]
    }
   ],
   "source": [
    "# Using Aggregate Function on DataFrame\n",
    "result = df[['Fee','Discount']].agg('sum')\n",
    "print(f\"La suma de las columnas 'Fee' y 'Discount' es:\\n{result}\")"
   ]
  },
  {
   "cell_type": "markdown",
   "metadata": {},
   "source": [
    "Aplicando múltiples funciones de agregación"
   ]
  },
  {
   "cell_type": "code",
   "execution_count": 3,
   "metadata": {},
   "outputs": [
    {
     "name": "stdout",
     "output_type": "stream",
     "text": [
      "Resumen de estadísticas para 'Fee': \n",
      "sum     152000.000000\n",
      "mean     25333.333333\n",
      "max      35000.000000\n",
      "Name: Fee, dtype: float64\n"
     ]
    }
   ],
   "source": [
    "summary_stats = df['Fee'].agg(['sum', 'mean', 'max'])\n",
    "print(f\"Resumen de estadísticas para 'Fee': \\n{summary_stats}\")\n"
   ]
  },
  {
   "cell_type": "code",
   "execution_count": 5,
   "metadata": {},
   "outputs": [
    {
     "name": "stdout",
     "output_type": "stream",
     "text": [
      "Resumen de estadísticas para 'Discount': \n",
      "sum     11000.000000\n",
      "mean     1833.333333\n",
      "max      2500.000000\n",
      "Name: Discount, dtype: float64\n"
     ]
    }
   ],
   "source": [
    "summary_stats = df['Discount'].agg(['sum', 'mean', 'max'])\n",
    "print(f\"Resumen de estadísticas para 'Discount': \\n{summary_stats}\")"
   ]
  },
  {
   "cell_type": "markdown",
   "metadata": {},
   "source": [
    "Agregación con funciones personalizada\n",
    "\n",
    "Función para calcular el rango del descuento\n"
   ]
  },
  {
   "cell_type": "code",
   "execution_count": 7,
   "metadata": {},
   "outputs": [
    {
     "name": "stdout",
     "output_type": "stream",
     "text": [
      "El rango de la columna 'Discount' es : \n",
      "1500\n"
     ]
    }
   ],
   "source": [
    "def calculate_range(x):\n",
    "    return x.max() - x.min()\n",
    "\n",
    "range_quantity = df['Discount'].agg(calculate_range)\n",
    "print(f\"El rango de la columna 'Discount' es : \\n{range_quantity}\")\n"
   ]
  },
  {
   "cell_type": "markdown",
   "metadata": {},
   "source": [
    "Agregación con múltiples columnas"
   ]
  },
  {
   "cell_type": "code",
   "execution_count": 8,
   "metadata": {},
   "outputs": [
    {
     "name": "stdout",
     "output_type": "stream",
     "text": [
      "Resultados de la agregación: \n",
      "Fee         152000.000000\n",
      "Discount      1833.333333\n",
      "dtype: float64\n"
     ]
    }
   ],
   "source": [
    "agg_results = df.agg({'Fee':'sum', 'Discount': 'mean'})\n",
    "print(f\"Resultados de la agregación: \\n{agg_results}\")"
   ]
  },
  {
   "cell_type": "markdown",
   "metadata": {},
   "source": [
    "Usando funciones de Agregación por grupos"
   ]
  },
  {
   "cell_type": "code",
   "execution_count": 9,
   "metadata": {},
   "outputs": [
    {
     "name": "stdout",
     "output_type": "stream",
     "text": [
      "DataFrame:\n",
      "    Courses    Fee Duration  Discount\n",
      "0    Spark  20000    30day      1000\n",
      "1  PySpark  25000   40days      2300\n",
      "2   Hadoop  26000   35days      1200\n",
      "3   Python  22000   40days      2500\n",
      "4  PySpark  24000   60days      2000\n",
      "5    Spark  35000   60days      2000\n"
     ]
    }
   ],
   "source": [
    "print(\"DataFrame:\\n\", df)"
   ]
  },
  {
   "cell_type": "code",
   "execution_count": 10,
   "metadata": {},
   "outputs": [
    {
     "name": "stdout",
     "output_type": "stream",
     "text": [
      "Resultado de groupby y sum(): \n",
      "            Fee      Duration  Discount\n",
      "Courses                               \n",
      "Hadoop   26000        35days      1200\n",
      "PySpark  49000  40days60days      4300\n",
      "Python   22000        40days      2500\n",
      "Spark    55000   30day60days      3000\n"
     ]
    }
   ],
   "source": [
    "# Using groupby() and aggreaget()\n",
    "result = df.groupby(['Courses']).sum()\n",
    "print(f\"Resultado de groupby y sum(): \\n {result}\")"
   ]
  },
  {
   "cell_type": "code",
   "execution_count": 11,
   "metadata": {},
   "outputs": [
    {
     "name": "stdout",
     "output_type": "stream",
     "text": [
      "Resultado de groupby y sum(): \n",
      "            Fee  Discount\n",
      "Courses                 \n",
      "Hadoop   26000      1200\n",
      "PySpark  49000      4300\n",
      "Python   22000      2500\n",
      "Spark    55000      3000\n"
     ]
    }
   ],
   "source": [
    "# Using groupby() and aggreaget()\n",
    "result = df.groupby(['Courses'])[['Fee', 'Discount']].agg('sum')\n",
    "print(f\"Resultado de groupby y sum(): \\n {result}\")"
   ]
  },
  {
   "cell_type": "code",
   "execution_count": 13,
   "metadata": {},
   "outputs": [
    {
     "name": "stdout",
     "output_type": "stream",
     "text": [
      "Resultado de groupby y múltiples agregaciones(): \n",
      "            min    max\n",
      "Courses              \n",
      "Hadoop   26000  26000\n",
      "PySpark  24000  25000\n",
      "Python   22000  22000\n",
      "Spark    20000  35000\n"
     ]
    }
   ],
   "source": [
    "# Using groupby() and aggreaget()\n",
    "result = df.groupby(['Courses'])['Fee'].agg(['min', 'max'])\n",
    "print(f\"Resultado de groupby y múltiples agregaciones(): \\n {result}\")"
   ]
  },
  {
   "cell_type": "code",
   "execution_count": null,
   "metadata": {},
   "outputs": [
    {
     "name": "stdout",
     "output_type": "stream",
     "text": [
      "Resultado de groupby yconmúltiples columnas y múltiples agregaciones(): \n",
      "            Fee        Discount      \n",
      "           min    max      min   max\n",
      "Courses                             \n",
      "Hadoop   26000  26000     1200  1200\n",
      "PySpark  24000  25000     2000  2300\n",
      "Python   22000  22000     2500  2500\n",
      "Spark    20000  35000     1000  2000\n"
     ]
    }
   ],
   "source": [
    "# Using groupby() and aggreaget()\n",
    "result = df.groupby(['Courses'])[['Fee', 'Discount']].agg(['min', 'max'])\n",
    "print(f\"Resultado de groupby con múltiples columnas y múltiples agregaciones(): \\n {result}\")"
   ]
  },
  {
   "cell_type": "code",
   "execution_count": 15,
   "metadata": {},
   "outputs": [
    {
     "name": "stdout",
     "output_type": "stream",
     "text": [
      "Resultado de groupby con múltiples columnas y múltiples agregaciones(): \n",
      "         Duration    Fee       \n",
      "           count    min    max\n",
      "Courses                       \n",
      "Hadoop         1  26000  26000\n",
      "PySpark        2  24000  25000\n",
      "Python         1  22000  22000\n",
      "Spark          2  20000  35000\n"
     ]
    }
   ],
   "source": [
    "# Using groupby() and aggreaget()\n",
    "result = df.groupby(['Courses']).agg({'Duration': 'count', 'Fee':['min', 'max']})\n",
    "print(f\"Resultado de groupby con múltiples columnas y múltiples agregaciones(): \\n {result}\")"
   ]
  }
 ],
 "metadata": {
  "kernelspec": {
   "display_name": "Analitica",
   "language": "python",
   "name": "python3"
  },
  "language_info": {
   "codemirror_mode": {
    "name": "ipython",
    "version": 3
   },
   "file_extension": ".py",
   "mimetype": "text/x-python",
   "name": "python",
   "nbconvert_exporter": "python",
   "pygments_lexer": "ipython3",
   "version": "3.12.11"
  }
 },
 "nbformat": 4,
 "nbformat_minor": 2
}
