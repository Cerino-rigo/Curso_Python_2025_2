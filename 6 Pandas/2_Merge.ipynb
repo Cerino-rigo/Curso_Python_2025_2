{
 "cells": [
  {
   "cell_type": "code",
   "execution_count": 1,
   "metadata": {},
   "outputs": [
    {
     "name": "stdout",
     "output_type": "stream",
     "text": [
      "   Employee_id    Name\n",
      "0            1  Daniel\n",
      "1            2   David\n",
      "2            3  Carlos\n",
      "3            4   Maria\n",
      "   Project_ID  Employee_id            Project\n",
      "0          55            1  Análisis de Datos\n",
      "1          88            2     Desarrollo Web\n",
      "2         100            3   Desarrollo móvil\n"
     ]
    }
   ],
   "source": [
    "import pandas as pd\n",
    "\n",
    "# Crear DataFrame de empleados\n",
    "df_employees = pd.DataFrame({'Employee_id': [1, 2, 3, 4],\n",
    "                  'Name': ['Daniel', 'David', 'Carlos', 'Maria']})\n",
    "\n",
    "\n",
    "# Crear DataFrame de proyectos\n",
    "df_projects = pd.DataFrame({'Project_ID': [55, 88, 100],\n",
    "                  'Employee_id': [1, 2, 3],\n",
    "                  'Project': ['Análisis de Datos', 'Desarrollo Web', 'Desarrollo móvil']})\n",
    "\n",
    "print(df_employees)\n",
    "print(df_projects)\n"
   ]
  },
  {
   "cell_type": "code",
   "execution_count": 2,
   "metadata": {},
   "outputs": [
    {
     "name": "stdout",
     "output_type": "stream",
     "text": [
      "   Employee_id    Name  Project_ID            Project\n",
      "0            1  Daniel          55  Análisis de Datos\n",
      "1            2   David          88     Desarrollo Web\n",
      "2            3  Carlos         100   Desarrollo móvil\n"
     ]
    }
   ],
   "source": [
    "#Combinar DataFrames con merge\n",
    "df_merged = pd.merge(df_employees, df_projects, on = 'Employee_id')\n",
    "print(df_merged)"
   ]
  },
  {
   "cell_type": "code",
   "execution_count": 3,
   "metadata": {},
   "outputs": [
    {
     "name": "stdout",
     "output_type": "stream",
     "text": [
      "   customer_id nombre       país\n",
      "0            1    Ana     México\n",
      "1            2   Juan     España\n",
      "2            3  Luisa   Colombia\n",
      "3            4  Pedro  Argentina\n",
      "   customer_id producto  monto\n",
      "0            1   Laptop   1200\n",
      "1            2   Tablet    500\n",
      "2            5  Celular    900\n"
     ]
    }
   ],
   "source": [
    "import pandas as pd\n",
    "\n",
    "# DataFrames de ejemplo\n",
    "clientes = pd.DataFrame({\n",
    "    'customer_id': [1, 2, 3, 4],\n",
    "    'nombre': ['Ana', 'Juan', 'Luisa', 'Pedro'],\n",
    "    'país': ['México', 'España', 'Colombia', 'Argentina']\n",
    "})\n",
    "\n",
    "compras = pd.DataFrame({\n",
    "    'customer_id': [1, 2, 5],\n",
    "    'producto': ['Laptop', 'Tablet', 'Celular'],\n",
    "    'monto': [1200, 500, 900]\n",
    "})\n",
    "\n",
    "print(clientes)\n",
    "print(compras)\n",
    "\n",
    "\n"
   ]
  },
  {
   "cell_type": "code",
   "execution_count": null,
   "metadata": {},
   "outputs": [
    {
     "name": "stdout",
     "output_type": "stream",
     "text": [
      "\n",
      "INNER JOIN\n",
      "   customer_id nombre    país producto  monto\n",
      "0            1    Ana  México   Laptop   1200\n",
      "1            2   Juan  España   Tablet    500\n",
      "\n",
      "LEFT JOIN\n",
      "   customer_id nombre       país producto   monto\n",
      "0            1    Ana     México   Laptop  1200.0\n",
      "1            2   Juan     España   Tablet   500.0\n",
      "2            3  Luisa   Colombia      NaN     NaN\n",
      "3            4  Pedro  Argentina      NaN     NaN\n",
      "\n",
      "RIGTH JOIN\n",
      "   customer_id nombre    país producto  monto\n",
      "0            1    Ana  México   Laptop   1200\n",
      "1            2   Juan  España   Tablet    500\n",
      "2            5    NaN     NaN  Celular    900\n",
      "\n",
      "OUTER JOIN\n",
      "   customer_id nombre       país producto   monto\n",
      "0            1    Ana     México   Laptop  1200.0\n",
      "1            2   Juan     España   Tablet   500.0\n",
      "2            3  Luisa   Colombia      NaN     NaN\n",
      "3            4  Pedro  Argentina      NaN     NaN\n",
      "4            5    NaN        NaN  Celular   900.0\n"
     ]
    }
   ],
   "source": [
    "#Merge con Inner Join (solo clientes con compras)\n",
    "df_inner = pd.merge(clientes, compras, on='customer_id', how='inner')\n",
    "print(\"\\nINNER JOIN\")\n",
    "print(df_inner)\n",
    "\n",
    "#Merge con Left Join (Todos los clientes, aunque no hayan comprado)\n",
    "df_left = pd.merge(clientes, compras, on='customer_id', how='left')\n",
    "print(\"\\nLEFT JOIN\")\n",
    "print(df_left)\n",
    "\n",
    "#Merge con Right Join (Todas las compras, aunque el cliente no esté registrado)\n",
    "df_right = pd.merge(clientes, compras, on='customer_id', how='right')\n",
    "print(\"\\nRIGTH JOIN\")\n",
    "print(df_right)\n",
    "\n",
    "#Merge con Outer Join (Une toda la información)\n",
    "df_outer = pd.merge(clientes, compras, on='customer_id', how='outer')\n",
    "print(\"\\nOUTER JOIN\")\n",
    "print(df_outer)\n",
    "\n"
   ]
  },
  {
   "cell_type": "markdown",
   "metadata": {},
   "source": [
    "Escenario: La empresa ahora tiene una tabla adicional con información sobre los pagos.\n",
    "\n",
    "📌 Objetivo: Usar merge para consolidar la información de compras y pagos."
   ]
  },
  {
   "cell_type": "code",
   "execution_count": 9,
   "metadata": {},
   "outputs": [
    {
     "name": "stdout",
     "output_type": "stream",
     "text": [
      "   customer_id producto  monto\n",
      "0            1   Laptop   1200\n",
      "1            2   Tablet    500\n",
      "2            5  Celular    900\n",
      "   customer_id  monto_pagado\n",
      "0            1          1200\n",
      "1            2           500\n",
      "2            3           300\n"
     ]
    }
   ],
   "source": [
    "pagos = pd.DataFrame({\n",
    "    'customer_id': [1, 2, 3],\n",
    "    'monto_pagado': [1200, 500, 300]\n",
    "})\n",
    "\n",
    "print(compras)\n",
    "print(pagos)\n"
   ]
  },
  {
   "cell_type": "code",
   "execution_count": 10,
   "metadata": {},
   "outputs": [
    {
     "name": "stdout",
     "output_type": "stream",
     "text": [
      "   customer_id producto  monto  monto_pagado\n",
      "0            1   Laptop   1200        1200.0\n",
      "1            2   Tablet    500         500.0\n",
      "2            5  Celular    900           NaN\n"
     ]
    }
   ],
   "source": [
    "df_pagos = pd.merge(compras, pagos, on='customer_id', how='left')\n",
    "print(df_pagos)"
   ]
  },
  {
   "cell_type": "markdown",
   "metadata": {},
   "source": [
    "¿Por qué el cliente con ID 5 tiene NaN en monto_pagado?\n",
    "¿Qué tipo de merge usarían para obtener solo los clientes que han comprado y pagado?"
   ]
  },
  {
   "cell_type": "code",
   "execution_count": 12,
   "metadata": {},
   "outputs": [
    {
     "name": "stdout",
     "output_type": "stream",
     "text": [
      "\n",
      "Información de Compras y Pagos\n",
      "   customer_id producto  monto  monto_pagado\n",
      "0            1   Laptop   1200          1200\n",
      "1            2   Tablet    500           500\n"
     ]
    }
   ],
   "source": [
    "df_pagos = pd.merge(compras, pagos, on='customer_id', how='inner')\n",
    "print(\"\\nInformación de Compras y Pagos\")\n",
    "print(df_pagos)"
   ]
  },
  {
   "cell_type": "code",
   "execution_count": 13,
   "metadata": {},
   "outputs": [
    {
     "name": "stdout",
     "output_type": "stream",
     "text": [
      "                name    country    position\n",
      "0     Miroslav Klose    Germany     forward\n",
      "1    Ronaldo Nazario     Brazil     forward\n",
      "2        Luka Modric    Croatia  midfielder\n",
      "3     Erling Haaland     Norway     forward\n",
      "4       Lionel Messi  Argentina     forward\n",
      "5               Pelé     Brazil     forward\n",
      "6      Kylian Mbappé     France     forward\n",
      "7  Cristiano Ronaldo   Portugal     forward\n",
      "              name  world_cups  total_matches  champion  goals\n",
      "0   Miroslav Klose           4             24         1     16\n",
      "1  Ronaldo Nazario           4             19         2     15\n",
      "2      Gerd Muller           2             13         1     14\n",
      "3    Just Fontaine           1              6         0     13\n",
      "4     Lionel Messi           5             26         1     13\n",
      "5             Pelé           4             14         3     12\n",
      "6    Kylian Mbappé           2             14         1     12\n",
      "7    Sándor Kocsis           1              5         0     11\n"
     ]
    }
   ],
   "source": [
    "Jugadores_mundialistas = pd.read_csv('../world_cup_players.csv')\n",
    "Maximos_goleadores = pd.read_csv('../world_top_scorers.csv')\n",
    "\n",
    "print(Jugadores_mundialistas)\n",
    "print(Maximos_goleadores)"
   ]
  },
  {
   "cell_type": "markdown",
   "metadata": {},
   "source": [
    "## Combinar DataFrames en base a una columna en común\n"
   ]
  },
  {
   "cell_type": "code",
   "execution_count": 14,
   "metadata": {},
   "outputs": [
    {
     "name": "stdout",
     "output_type": "stream",
     "text": [
      "              name    country position  world_cups  total_matches  champion  \\\n",
      "0   Miroslav Klose    Germany  forward           4             24         1   \n",
      "1  Ronaldo Nazario     Brazil  forward           4             19         2   \n",
      "2     Lionel Messi  Argentina  forward           5             26         1   \n",
      "3             Pelé     Brazil  forward           4             14         3   \n",
      "4    Kylian Mbappé     France  forward           2             14         1   \n",
      "\n",
      "   goals  \n",
      "0     16  \n",
      "1     15  \n",
      "2     13  \n",
      "3     12  \n",
      "4     12  \n"
     ]
    }
   ],
   "source": [
    "df_merged = pd.merge(Jugadores_mundialistas, Maximos_goleadores, on='name', how='inner')\n",
    "\n",
    "print(df_merged)"
   ]
  },
  {
   "cell_type": "markdown",
   "metadata": {},
   "source": [
    "## Combinar DataFrames en base a dos columnas que no tienen el mismo nombre"
   ]
  },
  {
   "cell_type": "code",
   "execution_count": 15,
   "metadata": {},
   "outputs": [
    {
     "name": "stdout",
     "output_type": "stream",
     "text": [
      "                name    country    position\n",
      "0     Miroslav Klose    Germany     forward\n",
      "1    Ronaldo Nazario     Brazil     forward\n",
      "2        Luka Modric    Croatia  midfielder\n",
      "3     Erling Haaland     Norway     forward\n",
      "4       Lionel Messi  Argentina     forward\n",
      "5               Pelé     Brazil     forward\n",
      "6      Kylian Mbappé     France     forward\n",
      "7  Cristiano Ronaldo   Portugal     forward\n",
      "       player_name  world_cups  total_matches  champion  goals\n",
      "0   Miroslav Klose           4             24         1     16\n",
      "1  Ronaldo Nazario           4             19         2     15\n",
      "2      Gerd Muller           2             13         1     14\n",
      "3    Just Fontaine           1              6         0     13\n",
      "4     Lionel Messi           5             26         1     13\n",
      "5             Pelé           4             14         3     12\n",
      "6    Kylian Mbappé           2             14         1     12\n",
      "7    Sándor Kocsis           1              5         0     11\n"
     ]
    }
   ],
   "source": [
    "Maximos_goleadores_2 = pd.read_csv('../world_top_scorers_2.csv')\n",
    "print(Jugadores_mundialistas)\n",
    "print(Maximos_goleadores_2)\n",
    "\n"
   ]
  },
  {
   "cell_type": "code",
   "execution_count": 16,
   "metadata": {},
   "outputs": [
    {
     "name": "stdout",
     "output_type": "stream",
     "text": [
      "                 name    country    position      player_name  world_cups  \\\n",
      "0   Cristiano Ronaldo   Portugal     forward              NaN         NaN   \n",
      "1      Erling Haaland     Norway     forward              NaN         NaN   \n",
      "2                 NaN        NaN         NaN      Gerd Muller         2.0   \n",
      "3                 NaN        NaN         NaN    Just Fontaine         1.0   \n",
      "4       Kylian Mbappé     France     forward    Kylian Mbappé         2.0   \n",
      "5        Lionel Messi  Argentina     forward     Lionel Messi         5.0   \n",
      "6         Luka Modric    Croatia  midfielder              NaN         NaN   \n",
      "7      Miroslav Klose    Germany     forward   Miroslav Klose         4.0   \n",
      "8                Pelé     Brazil     forward             Pelé         4.0   \n",
      "9     Ronaldo Nazario     Brazil     forward  Ronaldo Nazario         4.0   \n",
      "10                NaN        NaN         NaN    Sándor Kocsis         1.0   \n",
      "\n",
      "    total_matches  champion  goals  \n",
      "0             NaN       NaN    NaN  \n",
      "1             NaN       NaN    NaN  \n",
      "2            13.0       1.0   14.0  \n",
      "3             6.0       0.0   13.0  \n",
      "4            14.0       1.0   12.0  \n",
      "5            26.0       1.0   13.0  \n",
      "6             NaN       NaN    NaN  \n",
      "7            24.0       1.0   16.0  \n",
      "8            14.0       3.0   12.0  \n",
      "9            19.0       2.0   15.0  \n",
      "10            5.0       0.0   11.0  \n"
     ]
    }
   ],
   "source": [
    "df_merged = pd.merge(Jugadores_mundialistas, Maximos_goleadores_2, left_on='name', right_on='player_name', how='outer')\n",
    "\n",
    "print(df_merged)"
   ]
  },
  {
   "cell_type": "markdown",
   "metadata": {},
   "source": [
    "El argumento how=\"outer\" especifica un tipo de fusión \"outer\", lo que significa que se incluirán todos los registros de ambos DataFrames. Si no hay correspondencia entre las columnas especificadas, los valores de las columnas no coincidentes se llenarán con NaN (valores nulos)."
   ]
  },
  {
   "cell_type": "markdown",
   "metadata": {},
   "source": [
    "En este ejemplo, haciendo uso del método merge(), combinamos los Dataframes df_world_cup_players y df_world_top_scorers en base a las columnas name y player_name respectivamente, a través de los parámetros left_on y right_on. El resultado es un nuevo DataFrame con los registros que se encuentran en ambos DataFrames, debido a que utilizamos el parámetro how=\"outer\". Por lo que se mostrarán todos los jugadores mundialistas y máximos goleadores en mundiales. En caso de que un jugador no se encuentre en ambos DataFrames, se mostrará un NaN en las columnas correspondientes."
   ]
  },
  {
   "cell_type": "markdown",
   "metadata": {},
   "source": [
    "## Combinar DataFrames en base a los índices"
   ]
  },
  {
   "cell_type": "code",
   "execution_count": 17,
   "metadata": {},
   "outputs": [
    {
     "name": "stdout",
     "output_type": "stream",
     "text": [
      "   matches_played  goals_scored\n",
      "0              24            16\n",
      "1              19            15\n",
      "2              26            13\n",
      "3              14            12\n",
      "4              16            18\n",
      "5              21            17\n",
      "6              19            10\n",
      "7              11            11\n"
     ]
    }
   ],
   "source": [
    "import pandas as pd\n",
    "Estadisticas = pd.read_csv('../players_stats.csv')\n",
    "print(Estadisticas)"
   ]
  },
  {
   "cell_type": "code",
   "execution_count": 20,
   "metadata": {},
   "outputs": [
    {
     "name": "stdout",
     "output_type": "stream",
     "text": [
      "                     country    position\n",
      "name                                    \n",
      "Miroslav Klose       Germany     forward\n",
      "Ronaldo Nazario       Brazil     forward\n",
      "Luka Modric          Croatia  midfielder\n",
      "Erling Haaland        Norway     forward\n",
      "Lionel Messi       Argentina     forward\n",
      "Pelé                  Brazil     forward\n",
      "Kylian Mbappé         France     forward\n",
      "Cristiano Ronaldo   Portugal     forward\n",
      "                   matches_played  goals_scored\n",
      "name                                           \n",
      "Miroslav Klose                 24            16\n",
      "Ronaldo Nazario                19            15\n",
      "Luka Modric                    26            13\n",
      "Erling Haaland                 14            12\n",
      "Lionel Messi                   16            18\n",
      "Pelé                           21            17\n",
      "Kylian Mbappé                  19            10\n",
      "Cristiano Ronaldo              11            11\n"
     ]
    }
   ],
   "source": [
    "Jugadores_mundialistas = pd.read_csv('../world_cup_players.csv')\n",
    "#Establecer el nombr de los jugadores como índices en ambos DataFrames\n",
    "Jugadores_mundialistas.set_index('name', inplace=True)\n",
    "Estadisticas.set_index(Jugadores_mundialistas.index, inplace=True)\n",
    "print(Jugadores_mundialistas)\n",
    "print(Estadisticas)"
   ]
  },
  {
   "cell_type": "code",
   "execution_count": 21,
   "metadata": {},
   "outputs": [
    {
     "name": "stdout",
     "output_type": "stream",
     "text": [
      "                     country    position  matches_played  goals_scored\n",
      "name                                                                  \n",
      "Miroslav Klose       Germany     forward              24            16\n",
      "Ronaldo Nazario       Brazil     forward              19            15\n",
      "Luka Modric          Croatia  midfielder              26            13\n",
      "Erling Haaland        Norway     forward              14            12\n",
      "Lionel Messi       Argentina     forward              16            18\n",
      "Pelé                  Brazil     forward              21            17\n",
      "Kylian Mbappé         France     forward              19            10\n",
      "Cristiano Ronaldo   Portugal     forward              11            11\n"
     ]
    }
   ],
   "source": [
    "df_merged = pd.merge(Jugadores_mundialistas, Estadisticas, left_index=True, right_index=True)\n",
    "\n",
    "print(df_merged)"
   ]
  },
  {
   "cell_type": "markdown",
   "metadata": {},
   "source": [
    "Usar los parámetros left_index=True y right_index=True permite combinar los DataFrames de forma efectiva utilizando los índices como claves de unión, lo que es especialmente útil cuando las filas representan de manera única y coherente elementos como en este caso (jugadores de fútbol). Esto ayuda a evitar la necesidad de especificar explícitamente columnas comunes ya que el índice ya realiza esa función."
   ]
  },
  {
   "cell_type": "markdown",
   "metadata": {},
   "source": [
    "## Combinar DataFrames con nombres de columnas duplicados"
   ]
  },
  {
   "cell_type": "code",
   "execution_count": 22,
   "metadata": {},
   "outputs": [
    {
     "name": "stdout",
     "output_type": "stream",
     "text": [
      "                name    country    position\n",
      "0     Miroslav Klose    Germany     forward\n",
      "1    Ronaldo Nazario     Brazil     forward\n",
      "2        Luka Modric    Croatia  midfielder\n",
      "3     Erling Haaland     Norway     forward\n",
      "4       Lionel Messi  Argentina     forward\n",
      "5               Pelé     Brazil     forward\n",
      "6      Kylian Mbappé     France     forward\n",
      "7  Cristiano Ronaldo   Portugal     forward\n",
      "              name  world_cups  total_matches  goals    country\n",
      "0   Miroslav Klose           4             24     16    Germany\n",
      "1  Ronaldo Nazario           4             19     15     Brazil\n",
      "2      Gerd Muller           2             13     14    Germany\n",
      "3    Just Fontaine           1              6     13     France\n",
      "4     Lionel Messi           5             26     13  Argentina\n",
      "5             Pelé           4             14     12     Brazil\n",
      "6    Kylian Mbappé           2             14     12     France\n",
      "7    Sándor Kocsis           1              5     11    Hungary\n"
     ]
    }
   ],
   "source": [
    "Jugadores_mundialistas = pd.read_csv('../world_cup_players.csv')\n",
    "Maximos_goleadores = pd.read_csv('../world_top_scorers_3.csv')\n",
    "print(Jugadores_mundialistas)\n",
    "print(Maximos_goleadores)\n",
    "\n"
   ]
  },
  {
   "cell_type": "code",
   "execution_count": 24,
   "metadata": {},
   "outputs": [
    {
     "name": "stdout",
     "output_type": "stream",
     "text": [
      "                name country_left    position  world_cups  total_matches  \\\n",
      "0     Miroslav Klose      Germany     forward         4.0           24.0   \n",
      "1    Ronaldo Nazario       Brazil     forward         4.0           19.0   \n",
      "2        Luka Modric      Croatia  midfielder         NaN            NaN   \n",
      "3     Erling Haaland       Norway     forward         NaN            NaN   \n",
      "4       Lionel Messi    Argentina     forward         5.0           26.0   \n",
      "5               Pelé       Brazil     forward         4.0           14.0   \n",
      "6      Kylian Mbappé       France     forward         2.0           14.0   \n",
      "7  Cristiano Ronaldo     Portugal     forward         NaN            NaN   \n",
      "\n",
      "   goals country_right  \n",
      "0   16.0       Germany  \n",
      "1   15.0        Brazil  \n",
      "2    NaN           NaN  \n",
      "3    NaN           NaN  \n",
      "4   13.0     Argentina  \n",
      "5   12.0        Brazil  \n",
      "6   12.0        France  \n",
      "7    NaN           NaN  \n"
     ]
    }
   ],
   "source": [
    "df_merged = pd.merge(Jugadores_mundialistas, Maximos_goleadores, on='name', how='left', suffixes=('_left', '_right'))\n",
    "print(df_merged)"
   ]
  },
  {
   "cell_type": "markdown",
   "metadata": {},
   "source": [
    "En este ejemplo, haciendo uso del método merge(), combinamos los Dataframes df_world_cup_players y df_world_top_scorers en base a la columna name de ambos DataFrames. El resultado es un nuevo DataFrame donde se conservarán todos los registros del DataFrame izquierdo debido a que utilizamos el parámetro how=\"left\", y se agregan las columnas del DataFrame derecho. De no existir un registro en el DataFrame derecho, se mostrará un NaN. El parámetro suffixesnos permite agregar un sufijo cuando existen columnas con el mismo nombre en ambos DataFrames y así poder identificar de que DataFrame provienen, por ello observamos que existen columnas con el sufijo\\_lefty\\_right."
   ]
  },
  {
   "cell_type": "markdown",
   "metadata": {},
   "source": [
    "\"idxmax\""
   ]
  },
  {
   "cell_type": "code",
   "execution_count": 26,
   "metadata": {},
   "outputs": [
    {
     "name": "stdout",
     "output_type": "stream",
     "text": [
      "     Producto A  Producto B  Producto C\n",
      "Ene         120         200          80\n",
      "Feb         130         190          90\n",
      "Mar         150         210          85\n",
      "Abr         170         205          95\n",
      "May         160         215         100\n",
      "Jun         180         205         110\n"
     ]
    }
   ],
   "source": [
    "import pandas as pd\n",
    "\n",
    "# Crear un DataFrame de ejemplo: filas = meses, columnas = productos\n",
    "datos = {\n",
    "    'Producto A': [120, 130, 150, 170, 160, 180],\n",
    "    'Producto B': [200, 190, 210, 205, 215, 205],\n",
    "    'Producto C': [80, 90, 85, 95, 100, 110]\n",
    "}\n",
    "meses = ['Ene', 'Feb', 'Mar', 'Abr', 'May', 'Jun']\n",
    "\n",
    "df = pd.DataFrame(datos, index=meses)\n",
    "print(df)"
   ]
  },
  {
   "cell_type": "code",
   "execution_count": 27,
   "metadata": {},
   "outputs": [
    {
     "name": "stdout",
     "output_type": "stream",
     "text": [
      "Mes de venta máxima por producto (usando idxmax):\n",
      "Producto A    Jun\n",
      "Producto B    May\n",
      "Producto C    Jun\n",
      "dtype: object\n"
     ]
    }
   ],
   "source": [
    "#Usamos idxmax a lo largo del eje 0 (filas) -> encontraría el índice del máximo por columna\n",
    "\n",
    "idx_max_mes_por_producto = df.idxmax(axis=0)\n",
    "\n",
    "print(\"Mes de venta máxima por producto (usando idxmax):\")\n",
    "print(idx_max_mes_por_producto)\n"
   ]
  }
 ],
 "metadata": {
  "kernelspec": {
   "display_name": "Analitica",
   "language": "python",
   "name": "python3"
  },
  "language_info": {
   "codemirror_mode": {
    "name": "ipython",
    "version": 3
   },
   "file_extension": ".py",
   "mimetype": "text/x-python",
   "name": "python",
   "nbconvert_exporter": "python",
   "pygments_lexer": "ipython3",
   "version": "3.12.11"
  }
 },
 "nbformat": 4,
 "nbformat_minor": 2
}
