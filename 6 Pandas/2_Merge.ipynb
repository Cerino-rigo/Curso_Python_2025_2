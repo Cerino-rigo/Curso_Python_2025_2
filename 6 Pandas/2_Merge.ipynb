{
 "cells": [
  {
   "cell_type": "code",
   "execution_count": null,
   "metadata": {},
   "outputs": [],
   "source": [
    "import pandas as pd\n",
    "\n",
    "# Crear DataFrame de empleados\n",
    "df_employees = pd.DataFrame({'Employee_id': [1, 2, 3, 4],\n",
    "                  'Name': ['Daniel', 'David', 'Carlos', 'Maria']})\n",
    "\n",
    "\n",
    "# Crear DataFrame de proyectos\n",
    "df_projects = pd.DataFrame({'Project_ID': [55, 88, 100],\n",
    "                  'Employee_id': [1, 2, 3],\n",
    "                  'Project': ['Análisis de Datos', 'Desarrollo Web', 'Desarrollo móvil']})\n",
    "\n",
    "print(df_employees)\n",
    "print(df_projects)\n"
   ]
  },
  {
   "cell_type": "code",
   "execution_count": null,
   "metadata": {},
   "outputs": [],
   "source": [
    "import pandas as pd\n",
    "\n",
    "# DataFrames de ejemplo\n",
    "clientes = pd.DataFrame({\n",
    "    'customer_id': [1, 2, 3, 4],\n",
    "    'nombre': ['Ana', 'Juan', 'Luisa', 'Pedro'],\n",
    "    'país': ['México', 'España', 'Colombia', 'Argentina']\n",
    "})\n",
    "\n",
    "compras = pd.DataFrame({\n",
    "    'customer_id': [1, 2, 5],\n",
    "    'producto': ['Laptop', 'Tablet', 'Celular'],\n",
    "    'monto': [1200, 500, 900]\n",
    "})\n",
    "\n",
    "print(clientes)\n",
    "print(compras)\n",
    "\n",
    "\n"
   ]
  },
  {
   "cell_type": "markdown",
   "metadata": {},
   "source": [
    "Escenario: La empresa ahora tiene una tabla adicional con información sobre los pagos.\n",
    "\n",
    "📌 Objetivo: Usar merge para consolidar la información de compras y pagos."
   ]
  },
  {
   "cell_type": "code",
   "execution_count": null,
   "metadata": {},
   "outputs": [],
   "source": [
    "pagos = pd.DataFrame({\n",
    "    'customer_id': [1, 2, 3],\n",
    "    'monto_pagado': [1200, 500, 300]\n",
    "})\n",
    "\n",
    "print(compras)\n",
    "print(pagos)\n"
   ]
  },
  {
   "cell_type": "markdown",
   "metadata": {},
   "source": [
    "¿Por qué el cliente con ID 5 tiene NaN en monto_pagado?\n",
    "¿Qué tipo de merge usarían para obtener solo los clientes que han comprado y pagado?"
   ]
  },
  {
   "cell_type": "code",
   "execution_count": null,
   "metadata": {},
   "outputs": [],
   "source": [
    "Jugadores_mundialistas = pd.read_csv('../world_cup_players.csv')\n",
    "Maximos_goleadores = pd.read_csv('../world_top_scorers.csv')\n",
    "\n",
    "print(Jugadores_mundialistas)\n",
    "print(Maximos_goleadores)"
   ]
  },
  {
   "cell_type": "markdown",
   "metadata": {},
   "source": [
    "## Combinar DataFrames en base a una columna en común\n"
   ]
  },
  {
   "cell_type": "markdown",
   "metadata": {},
   "source": [
    "## Combinar DataFrames en base a dos columnas que no tienen el mismo nombre"
   ]
  },
  {
   "cell_type": "code",
   "execution_count": null,
   "metadata": {},
   "outputs": [],
   "source": [
    "Maximos_goleadores_2 = pd.read_csv('../world_top_scorers_2.csv')\n",
    "print(Jugadores_mundialistas)\n",
    "print(Maximos_goleadores_2)\n",
    "\n"
   ]
  },
  {
   "cell_type": "markdown",
   "metadata": {},
   "source": [
    "El argumento how=\"outer\" especifica un tipo de fusión \"outer\", lo que significa que se incluirán todos los registros de ambos DataFrames. Si no hay correspondencia entre las columnas especificadas, los valores de las columnas no coincidentes se llenarán con NaN (valores nulos)."
   ]
  },
  {
   "cell_type": "markdown",
   "metadata": {},
   "source": [
    "En este ejemplo, haciendo uso del método merge(), combinamos los Dataframes df_world_cup_players y df_world_top_scorers en base a las columnas name y player_name respectivamente, a través de los parámetros left_on y right_on. El resultado es un nuevo DataFrame con los registros que se encuentran en ambos DataFrames, debido a que utilizamos el parámetro how=\"outer\". Por lo que se mostrarán todos los jugadores mundialistas y máximos goleadores en mundiales. En caso de que un jugador no se encuentre en ambos DataFrames, se mostrará un NaN en las columnas correspondientes."
   ]
  },
  {
   "cell_type": "markdown",
   "metadata": {},
   "source": [
    "## Combinar DataFrames en base a los índices"
   ]
  },
  {
   "cell_type": "code",
   "execution_count": null,
   "metadata": {},
   "outputs": [],
   "source": [
    "import pandas as pd\n",
    "Estadisticas = pd.read_csv('../players_stats.csv')\n",
    "print(Estadisticas)"
   ]
  },
  {
   "cell_type": "code",
   "execution_count": null,
   "metadata": {},
   "outputs": [],
   "source": [
    "Jugadores_mundialistas = pd.read_csv('../world_cup_players.csv')"
   ]
  },
  {
   "cell_type": "markdown",
   "metadata": {},
   "source": [
    "Usar los parámetros left_index=True y right_index=True permite combinar los DataFrames de forma efectiva utilizando los índices como claves de unión, lo que es especialmente útil cuando las filas representan de manera única y coherente elementos como en este caso (jugadores de fútbol). Esto ayuda a evitar la necesidad de especificar explícitamente columnas comunes ya que el índice ya realiza esa función."
   ]
  },
  {
   "cell_type": "markdown",
   "metadata": {},
   "source": [
    "## Combinar DataFrames con nombres de columnas duplicados"
   ]
  },
  {
   "cell_type": "code",
   "execution_count": null,
   "metadata": {},
   "outputs": [],
   "source": [
    "Jugadores_mundialistas = pd.read_csv('../world_cup_players.csv')\n",
    "Maximos_goleadores = pd.read_csv('../world_top_scorers_3.csv')\n",
    "print(Jugadores_mundialistas)\n",
    "print(Maximos_goleadores)\n",
    "\n"
   ]
  },
  {
   "cell_type": "markdown",
   "metadata": {},
   "source": [
    "En este ejemplo, haciendo uso del método merge(), combinamos los Dataframes df_world_cup_players y df_world_top_scorers en base a la columna name de ambos DataFrames. El resultado es un nuevo DataFrame donde se conservarán todos los registros del DataFrame izquierdo debido a que utilizamos el parámetro how=\"left\", y se agregan las columnas del DataFrame derecho. De no existir un registro en el DataFrame derecho, se mostrará un NaN. El parámetro suffixesnos permite agregar un sufijo cuando existen columnas con el mismo nombre en ambos DataFrames y así poder identificar de que DataFrame provienen, por ello observamos que existen columnas con el sufijo\\_lefty\\_right."
   ]
  },
  {
   "cell_type": "markdown",
   "metadata": {},
   "source": [
    "\"idxmax\""
   ]
  },
  {
   "cell_type": "code",
   "execution_count": 1,
   "metadata": {},
   "outputs": [],
   "source": [
    "import pandas as pd\n",
    "\n",
    "# Crear un DataFrame de ejemplo: filas = meses, columnas = productos\n",
    "datos = {\n",
    "    'Producto A': [120, 130, 150, 170, 160, 180],\n",
    "    'Producto B': [200, 190, 210, 205, 215, 205],\n",
    "    'Producto C': [80, 90, 85, 95, 100, 110]\n",
    "}\n",
    "meses = ['Ene', 'Feb', 'Mar', 'Abr', 'May', 'Jun']\n",
    "\n",
    "df = pd.DataFrame(datos, index=meses)"
   ]
  }
 ],
 "metadata": {
  "kernelspec": {
   "display_name": "Analitica",
   "language": "python",
   "name": "python3"
  },
  "language_info": {
   "codemirror_mode": {
    "name": "ipython",
    "version": 3
   },
   "file_extension": ".py",
   "mimetype": "text/x-python",
   "name": "python",
   "nbconvert_exporter": "python",
   "pygments_lexer": "ipython3",
   "version": "3.12.11"
  }
 },
 "nbformat": 4,
 "nbformat_minor": 2
}
